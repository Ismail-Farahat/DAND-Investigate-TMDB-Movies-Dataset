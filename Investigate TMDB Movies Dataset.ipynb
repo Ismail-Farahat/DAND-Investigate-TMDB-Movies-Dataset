{
 "cells": [
  {
   "cell_type": "markdown",
   "metadata": {},
   "source": [
    "\n",
    "# Project: Investigate a Dataset (TMDB Movies Dataset)\n",
    "\n",
    "## Table of Contents\n",
    "<ul>\n",
    "<li><a href=\"#intro\">Introduction</a></li>\n",
    "<li><a href=\"#wrangling\">Data Wrangling</a></li>\n",
    "<li><a href=\"#eda\">Exploratory Data Analysis</a></li>\n",
    "<li><a href=\"#conclusions\">Conclusions</a></li>\n",
    "</ul>"
   ]
  },
  {
   "cell_type": "markdown",
   "metadata": {},
   "source": [
    "<a id='intro'></a>\n",
    "## Introduction<br>\n",
    "> **This dataset(TMDB Movies) represent informations about films over the history.**<br><br>"
   ]
  },
  {
   "cell_type": "markdown",
   "metadata": {},
   "source": [
    "> **The Questions we can answer from this dataset are:**<br><br>\n",
    "**1-**<li><a href=\"#1\">What are the films having the highest and lowest profits?</a></li>  \n",
    "**2-**<li><a href=\"#2\">what is the runtime range of profitable films and non-profitables films?And which type of films have the long runtime {profitable ones or the non-profitable ones}?</a></li>  \n",
    "**3-**<li><a href=\"#3\">What is the year which have high productivity of profitable films?<br>\n",
    "And what is the year which have low productivity of profitable films?<br>\n",
    "And what is the most profitable year?<br>\n",
    "And what is the most non-profitable year?</a></li>\n",
    "**4-**<li><a href=\"#4\">What are the most successful genres of profitable films?And what are the most unsuccessful genres of profitable films?</a></li>\n",
    "**5-**<li><a href=\"#5\">Who are the actors who have the greatest number of profitable films?</a></li>\n",
    "**6-**<li><a href=\"#6\">What are the production companies which have the greatest number of profitable films?</a></li>\n",
    "**7-**<li><a href=\"#7\">Who are the directors who have the greatest number of profitable films?</a></li>\n",
    "**8-**<li><a href=\"#8\">What are the average of budgets,the average of revenues,the average of profits and the average runtime for all profitable films?</a></li>"
   ]
  },
  {
   "cell_type": "code",
   "execution_count": 1,
   "metadata": {},
   "outputs": [],
   "source": [
    "#import statements for all of the packages that we plan to use\n",
    "import pandas as pd\n",
    "import numpy as np\n",
    "import matplotlib.pyplot as plt\n",
    "import seaborn as sns\n",
    "import operator\n",
    "%matplotlib inline"
   ]
  },
  {
   "cell_type": "markdown",
   "metadata": {},
   "source": [
    "<a id='wrangling'></a>\n",
    "## Data Wrangling<br>\n",
    "> **In this stage,We will discover data to decide what is required to clean data and make it useful to analyse the data and answer the questions.**\n",
    "\n",
    "\n",
    "### General Properties"
   ]
  },
  {
   "cell_type": "code",
   "execution_count": 2,
   "metadata": {},
   "outputs": [
    {
     "data": {
      "text/html": [
       "<div>\n",
       "<style scoped>\n",
       "    .dataframe tbody tr th:only-of-type {\n",
       "        vertical-align: middle;\n",
       "    }\n",
       "\n",
       "    .dataframe tbody tr th {\n",
       "        vertical-align: top;\n",
       "    }\n",
       "\n",
       "    .dataframe thead th {\n",
       "        text-align: right;\n",
       "    }\n",
       "</style>\n",
       "<table border=\"1\" class=\"dataframe\">\n",
       "  <thead>\n",
       "    <tr style=\"text-align: right;\">\n",
       "      <th></th>\n",
       "      <th>id</th>\n",
       "      <th>imdb_id</th>\n",
       "      <th>popularity</th>\n",
       "      <th>budget</th>\n",
       "      <th>revenue</th>\n",
       "      <th>original_title</th>\n",
       "      <th>cast</th>\n",
       "      <th>homepage</th>\n",
       "      <th>director</th>\n",
       "      <th>tagline</th>\n",
       "      <th>...</th>\n",
       "      <th>overview</th>\n",
       "      <th>runtime</th>\n",
       "      <th>genres</th>\n",
       "      <th>production_companies</th>\n",
       "      <th>release_date</th>\n",
       "      <th>vote_count</th>\n",
       "      <th>vote_average</th>\n",
       "      <th>release_year</th>\n",
       "      <th>budget_adj</th>\n",
       "      <th>revenue_adj</th>\n",
       "    </tr>\n",
       "  </thead>\n",
       "  <tbody>\n",
       "    <tr>\n",
       "      <th>0</th>\n",
       "      <td>135397</td>\n",
       "      <td>tt0369610</td>\n",
       "      <td>32.985763</td>\n",
       "      <td>150000000</td>\n",
       "      <td>1513528810</td>\n",
       "      <td>Jurassic World</td>\n",
       "      <td>Chris Pratt|Bryce Dallas Howard|Irrfan Khan|Vi...</td>\n",
       "      <td>http://www.jurassicworld.com/</td>\n",
       "      <td>Colin Trevorrow</td>\n",
       "      <td>The park is open.</td>\n",
       "      <td>...</td>\n",
       "      <td>Twenty-two years after the events of Jurassic ...</td>\n",
       "      <td>124</td>\n",
       "      <td>Action|Adventure|Science Fiction|Thriller</td>\n",
       "      <td>Universal Studios|Amblin Entertainment|Legenda...</td>\n",
       "      <td>6/9/15</td>\n",
       "      <td>5562</td>\n",
       "      <td>6.5</td>\n",
       "      <td>2015</td>\n",
       "      <td>1.379999e+08</td>\n",
       "      <td>1.392446e+09</td>\n",
       "    </tr>\n",
       "    <tr>\n",
       "      <th>1</th>\n",
       "      <td>76341</td>\n",
       "      <td>tt1392190</td>\n",
       "      <td>28.419936</td>\n",
       "      <td>150000000</td>\n",
       "      <td>378436354</td>\n",
       "      <td>Mad Max: Fury Road</td>\n",
       "      <td>Tom Hardy|Charlize Theron|Hugh Keays-Byrne|Nic...</td>\n",
       "      <td>http://www.madmaxmovie.com/</td>\n",
       "      <td>George Miller</td>\n",
       "      <td>What a Lovely Day.</td>\n",
       "      <td>...</td>\n",
       "      <td>An apocalyptic story set in the furthest reach...</td>\n",
       "      <td>120</td>\n",
       "      <td>Action|Adventure|Science Fiction|Thriller</td>\n",
       "      <td>Village Roadshow Pictures|Kennedy Miller Produ...</td>\n",
       "      <td>5/13/15</td>\n",
       "      <td>6185</td>\n",
       "      <td>7.1</td>\n",
       "      <td>2015</td>\n",
       "      <td>1.379999e+08</td>\n",
       "      <td>3.481613e+08</td>\n",
       "    </tr>\n",
       "    <tr>\n",
       "      <th>2</th>\n",
       "      <td>262500</td>\n",
       "      <td>tt2908446</td>\n",
       "      <td>13.112507</td>\n",
       "      <td>110000000</td>\n",
       "      <td>295238201</td>\n",
       "      <td>Insurgent</td>\n",
       "      <td>Shailene Woodley|Theo James|Kate Winslet|Ansel...</td>\n",
       "      <td>http://www.thedivergentseries.movie/#insurgent</td>\n",
       "      <td>Robert Schwentke</td>\n",
       "      <td>One Choice Can Destroy You</td>\n",
       "      <td>...</td>\n",
       "      <td>Beatrice Prior must confront her inner demons ...</td>\n",
       "      <td>119</td>\n",
       "      <td>Adventure|Science Fiction|Thriller</td>\n",
       "      <td>Summit Entertainment|Mandeville Films|Red Wago...</td>\n",
       "      <td>3/18/15</td>\n",
       "      <td>2480</td>\n",
       "      <td>6.3</td>\n",
       "      <td>2015</td>\n",
       "      <td>1.012000e+08</td>\n",
       "      <td>2.716190e+08</td>\n",
       "    </tr>\n",
       "    <tr>\n",
       "      <th>3</th>\n",
       "      <td>140607</td>\n",
       "      <td>tt2488496</td>\n",
       "      <td>11.173104</td>\n",
       "      <td>200000000</td>\n",
       "      <td>2068178225</td>\n",
       "      <td>Star Wars: The Force Awakens</td>\n",
       "      <td>Harrison Ford|Mark Hamill|Carrie Fisher|Adam D...</td>\n",
       "      <td>http://www.starwars.com/films/star-wars-episod...</td>\n",
       "      <td>J.J. Abrams</td>\n",
       "      <td>Every generation has a story.</td>\n",
       "      <td>...</td>\n",
       "      <td>Thirty years after defeating the Galactic Empi...</td>\n",
       "      <td>136</td>\n",
       "      <td>Action|Adventure|Science Fiction|Fantasy</td>\n",
       "      <td>Lucasfilm|Truenorth Productions|Bad Robot</td>\n",
       "      <td>12/15/15</td>\n",
       "      <td>5292</td>\n",
       "      <td>7.5</td>\n",
       "      <td>2015</td>\n",
       "      <td>1.839999e+08</td>\n",
       "      <td>1.902723e+09</td>\n",
       "    </tr>\n",
       "    <tr>\n",
       "      <th>4</th>\n",
       "      <td>168259</td>\n",
       "      <td>tt2820852</td>\n",
       "      <td>9.335014</td>\n",
       "      <td>190000000</td>\n",
       "      <td>1506249360</td>\n",
       "      <td>Furious 7</td>\n",
       "      <td>Vin Diesel|Paul Walker|Jason Statham|Michelle ...</td>\n",
       "      <td>http://www.furious7.com/</td>\n",
       "      <td>James Wan</td>\n",
       "      <td>Vengeance Hits Home</td>\n",
       "      <td>...</td>\n",
       "      <td>Deckard Shaw seeks revenge against Dominic Tor...</td>\n",
       "      <td>137</td>\n",
       "      <td>Action|Crime|Thriller</td>\n",
       "      <td>Universal Pictures|Original Film|Media Rights ...</td>\n",
       "      <td>4/1/15</td>\n",
       "      <td>2947</td>\n",
       "      <td>7.3</td>\n",
       "      <td>2015</td>\n",
       "      <td>1.747999e+08</td>\n",
       "      <td>1.385749e+09</td>\n",
       "    </tr>\n",
       "  </tbody>\n",
       "</table>\n",
       "<p>5 rows × 21 columns</p>\n",
       "</div>"
      ],
      "text/plain": [
       "       id    imdb_id  popularity     budget     revenue  \\\n",
       "0  135397  tt0369610   32.985763  150000000  1513528810   \n",
       "1   76341  tt1392190   28.419936  150000000   378436354   \n",
       "2  262500  tt2908446   13.112507  110000000   295238201   \n",
       "3  140607  tt2488496   11.173104  200000000  2068178225   \n",
       "4  168259  tt2820852    9.335014  190000000  1506249360   \n",
       "\n",
       "                 original_title  \\\n",
       "0                Jurassic World   \n",
       "1            Mad Max: Fury Road   \n",
       "2                     Insurgent   \n",
       "3  Star Wars: The Force Awakens   \n",
       "4                     Furious 7   \n",
       "\n",
       "                                                cast  \\\n",
       "0  Chris Pratt|Bryce Dallas Howard|Irrfan Khan|Vi...   \n",
       "1  Tom Hardy|Charlize Theron|Hugh Keays-Byrne|Nic...   \n",
       "2  Shailene Woodley|Theo James|Kate Winslet|Ansel...   \n",
       "3  Harrison Ford|Mark Hamill|Carrie Fisher|Adam D...   \n",
       "4  Vin Diesel|Paul Walker|Jason Statham|Michelle ...   \n",
       "\n",
       "                                            homepage          director  \\\n",
       "0                      http://www.jurassicworld.com/   Colin Trevorrow   \n",
       "1                        http://www.madmaxmovie.com/     George Miller   \n",
       "2     http://www.thedivergentseries.movie/#insurgent  Robert Schwentke   \n",
       "3  http://www.starwars.com/films/star-wars-episod...       J.J. Abrams   \n",
       "4                           http://www.furious7.com/         James Wan   \n",
       "\n",
       "                         tagline  ...  \\\n",
       "0              The park is open.  ...   \n",
       "1             What a Lovely Day.  ...   \n",
       "2     One Choice Can Destroy You  ...   \n",
       "3  Every generation has a story.  ...   \n",
       "4            Vengeance Hits Home  ...   \n",
       "\n",
       "                                            overview runtime  \\\n",
       "0  Twenty-two years after the events of Jurassic ...     124   \n",
       "1  An apocalyptic story set in the furthest reach...     120   \n",
       "2  Beatrice Prior must confront her inner demons ...     119   \n",
       "3  Thirty years after defeating the Galactic Empi...     136   \n",
       "4  Deckard Shaw seeks revenge against Dominic Tor...     137   \n",
       "\n",
       "                                      genres  \\\n",
       "0  Action|Adventure|Science Fiction|Thriller   \n",
       "1  Action|Adventure|Science Fiction|Thriller   \n",
       "2         Adventure|Science Fiction|Thriller   \n",
       "3   Action|Adventure|Science Fiction|Fantasy   \n",
       "4                      Action|Crime|Thriller   \n",
       "\n",
       "                                production_companies release_date vote_count  \\\n",
       "0  Universal Studios|Amblin Entertainment|Legenda...       6/9/15       5562   \n",
       "1  Village Roadshow Pictures|Kennedy Miller Produ...      5/13/15       6185   \n",
       "2  Summit Entertainment|Mandeville Films|Red Wago...      3/18/15       2480   \n",
       "3          Lucasfilm|Truenorth Productions|Bad Robot     12/15/15       5292   \n",
       "4  Universal Pictures|Original Film|Media Rights ...       4/1/15       2947   \n",
       "\n",
       "   vote_average  release_year    budget_adj   revenue_adj  \n",
       "0           6.5          2015  1.379999e+08  1.392446e+09  \n",
       "1           7.1          2015  1.379999e+08  3.481613e+08  \n",
       "2           6.3          2015  1.012000e+08  2.716190e+08  \n",
       "3           7.5          2015  1.839999e+08  1.902723e+09  \n",
       "4           7.3          2015  1.747999e+08  1.385749e+09  \n",
       "\n",
       "[5 rows x 21 columns]"
      ]
     },
     "execution_count": 2,
     "metadata": {},
     "output_type": "execute_result"
    }
   ],
   "source": [
    "# Load the data (tmdb_movies) and print out a few lines.\n",
    "# Perform operations to inspect data types and look for instances of missing or possibly errant data.\n",
    "df = pd.read_csv('tmdb_movies.csv')\n",
    "df.head()"
   ]
  },
  {
   "cell_type": "code",
   "execution_count": 3,
   "metadata": {},
   "outputs": [
    {
     "name": "stdout",
     "output_type": "stream",
     "text": [
      "<class 'pandas.core.frame.DataFrame'>\n",
      "RangeIndex: 10866 entries, 0 to 10865\n",
      "Data columns (total 21 columns):\n",
      "id                      10866 non-null int64\n",
      "imdb_id                 10856 non-null object\n",
      "popularity              10866 non-null float64\n",
      "budget                  10866 non-null int64\n",
      "revenue                 10866 non-null int64\n",
      "original_title          10866 non-null object\n",
      "cast                    10790 non-null object\n",
      "homepage                2936 non-null object\n",
      "director                10822 non-null object\n",
      "tagline                 8042 non-null object\n",
      "keywords                9373 non-null object\n",
      "overview                10862 non-null object\n",
      "runtime                 10866 non-null int64\n",
      "genres                  10843 non-null object\n",
      "production_companies    9836 non-null object\n",
      "release_date            10866 non-null object\n",
      "vote_count              10866 non-null int64\n",
      "vote_average            10866 non-null float64\n",
      "release_year            10866 non-null int64\n",
      "budget_adj              10866 non-null float64\n",
      "revenue_adj             10866 non-null float64\n",
      "dtypes: float64(4), int64(6), object(11)\n",
      "memory usage: 1.7+ MB\n"
     ]
    }
   ],
   "source": [
    "# Discover data types.\n",
    "df.info()"
   ]
  },
  {
   "cell_type": "markdown",
   "metadata": {},
   "source": [
    "> **Dataset Obsevations:**<br><br>\n",
    "**1-**There are many columns without any importance like (id,imdb_id,homepage,overview,keywords,budget_adj,revenue_adj).  \n",
    "**2-**Column 'vote_count' has different values for every film and that ofcourse will make the values of vote_average and popularity has inaccurate values(all films must have the same number of people who vote).So columns (vote_count,vote_average,popularity) has no importance.  \n",
    "**3-**Thers is no measurement unit for columns like(budget,revenue,runtime).But by logic,runtime has to be in minutes and (budget,revenue) have to be in dollars(the first currency in the world).  \n",
    "**4-**Column'release_year' has string type,we must convert it to datetime type."
   ]
  },
  {
   "cell_type": "markdown",
   "metadata": {},
   "source": [
    "### Data Cleaning (Drop and cleaning data from unuseful columns and rows<br><br>\n",
    "> **Steps of cleaning data:**<br><br>\n",
    "**1-**Drop duplicated rows.  \n",
    "**2-**Drop useless columns to make data good enough to be explored.  \n",
    "**3-**Drop rows if they have any NULL values.  \n",
    "**4-**Drop rows which have unexpected values(budget == 0 or revenue == 0) or unreasonable values(budget == 113 or revenue == 100)...these values are outliers so we will drop every film which its budget  or revenue has values less than 50000 dollars.  \n",
    "**5-**Converting ZERO values to NAN in (runtime,release_year) column.  \n",
    "**6-**Converting data columns types like(release_date must be datetime not string)."
   ]
  },
  {
   "cell_type": "markdown",
   "metadata": {},
   "source": [
    ">**1-Drop duplicated rows.**"
   ]
  },
  {
   "cell_type": "code",
   "execution_count": 4,
   "metadata": {},
   "outputs": [
    {
     "data": {
      "text/plain": [
       "1"
      ]
     },
     "execution_count": 4,
     "metadata": {},
     "output_type": "execute_result"
    }
   ],
   "source": [
    "# Descover how many duplicated rows are.\n",
    "df.duplicated().sum()"
   ]
  },
  {
   "cell_type": "code",
   "execution_count": 5,
   "metadata": {},
   "outputs": [
    {
     "data": {
      "text/plain": [
       "0"
      ]
     },
     "execution_count": 5,
     "metadata": {},
     "output_type": "execute_result"
    }
   ],
   "source": [
    "# cleaning data from duplicated rows.\n",
    "df.drop_duplicates(inplace=True)\n",
    "# Testing the success of droping duplicated rows.\n",
    "df.duplicated().sum()"
   ]
  },
  {
   "cell_type": "markdown",
   "metadata": {},
   "source": [
    "> **2-Drop useless columns to make data good enough to be explored.**"
   ]
  },
  {
   "cell_type": "code",
   "execution_count": 6,
   "metadata": {},
   "outputs": [
    {
     "name": "stdout",
     "output_type": "stream",
     "text": [
      "<class 'pandas.core.frame.DataFrame'>\n",
      "Int64Index: 10865 entries, 0 to 10865\n",
      "Data columns (total 11 columns):\n",
      "budget                  10865 non-null int64\n",
      "revenue                 10865 non-null int64\n",
      "original_title          10865 non-null object\n",
      "cast                    10789 non-null object\n",
      "director                10821 non-null object\n",
      "tagline                 8041 non-null object\n",
      "runtime                 10865 non-null int64\n",
      "genres                  10842 non-null object\n",
      "production_companies    9835 non-null object\n",
      "release_date            10865 non-null object\n",
      "release_year            10865 non-null int64\n",
      "dtypes: int64(4), object(7)\n",
      "memory usage: 1018.6+ KB\n"
     ]
    }
   ],
   "source": [
    "# Drop useless columns (id,imdb_id,homepage,overview,keywords,budget_adj,revenue_adj,vote_count,vote_average,popularity)\n",
    "df.drop(['id','imdb_id','homepage','overview','keywords','budget_adj','revenue_adj','vote_count','vote_average','popularity'],axis=1,inplace=True)\n",
    "# testing\n",
    "df.info()"
   ]
  },
  {
   "cell_type": "markdown",
   "metadata": {},
   "source": [
    "> **3-Drop rows if they have any NULL values.**"
   ]
  },
  {
   "cell_type": "code",
   "execution_count": 7,
   "metadata": {},
   "outputs": [
    {
     "data": {
      "text/plain": [
       "budget                  False\n",
       "revenue                 False\n",
       "original_title          False\n",
       "cast                    False\n",
       "director                False\n",
       "tagline                 False\n",
       "runtime                 False\n",
       "genres                  False\n",
       "production_companies    False\n",
       "release_date            False\n",
       "release_year            False\n",
       "dtype: bool"
      ]
     },
     "execution_count": 7,
     "metadata": {},
     "output_type": "execute_result"
    }
   ],
   "source": [
    "# Drop Null values from the data\n",
    "df.dropna(inplace=True)\n",
    "# testing\n",
    "df.isnull().any()"
   ]
  },
  {
   "cell_type": "markdown",
   "metadata": {},
   "source": [
    "> **4-Drop rows which have unexpected values(budget == 0 or revenue == 0) or unreasonable values(budget == 113 or revenue == 100)...these values are outliers so we will drop every film which its budget  or revenue has values less than 50000 dollars.**"
   ]
  },
  {
   "cell_type": "code",
   "execution_count": 8,
   "metadata": {},
   "outputs": [
    {
     "data": {
      "text/plain": [
       "(count    7.635000e+03\n",
       " mean     1.963939e+07\n",
       " std      3.508058e+07\n",
       " min      0.000000e+00\n",
       " 25%      0.000000e+00\n",
       " 50%      3.500000e+06\n",
       " 75%      2.500000e+07\n",
       " max      4.250000e+08\n",
       " Name: budget, dtype: float64, count    7.635000e+03\n",
       " mean     5.528189e+07\n",
       " std      1.358346e+08\n",
       " min      0.000000e+00\n",
       " 25%      0.000000e+00\n",
       " 50%      2.260622e+06\n",
       " 75%      4.802269e+07\n",
       " max      2.781506e+09\n",
       " Name: revenue, dtype: float64)"
      ]
     },
     "execution_count": 8,
     "metadata": {},
     "output_type": "execute_result"
    }
   ],
   "source": [
    "# Discover the nature of values in columns (budget,revenue)\n",
    "df.budget.describe(),df.revenue.describe()"
   ]
  },
  {
   "cell_type": "code",
   "execution_count": 9,
   "metadata": {},
   "outputs": [
    {
     "data": {
      "text/plain": [
       "(count    3.479000e+03\n",
       " mean     3.956726e+07\n",
       " std      4.312715e+07\n",
       " min      6.000000e+04\n",
       " 25%      1.100000e+07\n",
       " 50%      2.500000e+07\n",
       " 75%      5.125000e+07\n",
       " max      4.250000e+08\n",
       " Name: budget, dtype: float64, count    3.479000e+03\n",
       " mean     1.166487e+08\n",
       " std      1.823582e+08\n",
       " min      5.013600e+04\n",
       " 25%      1.742858e+07\n",
       " 50%      5.230400e+07\n",
       " 75%      1.374428e+08\n",
       " max      2.781506e+09\n",
       " Name: revenue, dtype: float64)"
      ]
     },
     "execution_count": 9,
     "metadata": {},
     "output_type": "execute_result"
    }
   ],
   "source": [
    "# Drop rows which values of columns (budget,revenue) is equal to zero\n",
    "df.query('budget >= 50000',inplace=True)\n",
    "df.query('revenue >= 50000',inplace=True)\n",
    "# Discover the nature of values in these columns after droping ZERO values\n",
    "df.budget.describe(),df.revenue.describe()"
   ]
  },
  {
   "cell_type": "markdown",
   "metadata": {},
   "source": [
    "> **5-Converting ZERO values to NAN in (runtime,release_year) columns.**<br><br>\n",
    "There is no ZERO values in column 'runtime' after droping all ZERO values in columns (budget,revenue).  \n",
    "There is no ZERO values in column 'release_year'.<br><br>\n",
    "**That means all values of the columns(which its type is int) in the data now has no ZERO values.**"
   ]
  },
  {
   "cell_type": "code",
   "execution_count": 10,
   "metadata": {},
   "outputs": [
    {
     "data": {
      "text/plain": [
       "count    3479.000000\n",
       "mean      109.446393\n",
       "std        19.680526\n",
       "min        26.000000\n",
       "25%        96.000000\n",
       "50%       106.000000\n",
       "75%       119.000000\n",
       "max       338.000000\n",
       "Name: runtime, dtype: float64"
      ]
     },
     "execution_count": 10,
     "metadata": {},
     "output_type": "execute_result"
    }
   ],
   "source": [
    "# Discover the nature of values in column 'runtime'\n",
    "df.runtime.describe()"
   ]
  },
  {
   "cell_type": "code",
   "execution_count": 11,
   "metadata": {},
   "outputs": [
    {
     "data": {
      "text/plain": [
       "1960"
      ]
     },
     "execution_count": 11,
     "metadata": {},
     "output_type": "execute_result"
    }
   ],
   "source": [
    "# Discover the nature of values in column 'release_year'\n",
    "df.release_year.min()"
   ]
  },
  {
   "cell_type": "markdown",
   "metadata": {},
   "source": [
    "> **6-Converting data columns types like(release_date must be datetime).**"
   ]
  },
  {
   "cell_type": "code",
   "execution_count": 12,
   "metadata": {},
   "outputs": [
    {
     "name": "stdout",
     "output_type": "stream",
     "text": [
      "<class 'pandas.core.frame.DataFrame'>\n",
      "Int64Index: 3479 entries, 0 to 10848\n",
      "Data columns (total 11 columns):\n",
      "budget                  3479 non-null int64\n",
      "revenue                 3479 non-null int64\n",
      "original_title          3479 non-null object\n",
      "cast                    3479 non-null object\n",
      "director                3479 non-null object\n",
      "tagline                 3479 non-null object\n",
      "runtime                 3479 non-null int64\n",
      "genres                  3479 non-null object\n",
      "production_companies    3479 non-null object\n",
      "release_date            3479 non-null datetime64[ns]\n",
      "release_year            3479 non-null int64\n",
      "dtypes: datetime64[ns](1), int64(4), object(6)\n",
      "memory usage: 326.2+ KB\n"
     ]
    }
   ],
   "source": [
    "# Converting types of data\n",
    "# Converting release_date from string type to datetime type\n",
    "df.release_date = pd.to_datetime(df['release_date'])\n",
    "# Descover data type after converting some types\n",
    "df.info()"
   ]
  },
  {
   "cell_type": "markdown",
   "metadata": {},
   "source": [
    "<a id='1'></a>\n",
    "## Exploratory Data Analysis<br><br>\n",
    "\n",
    "### Research Question 1 (What are the films having the highest and lowest profits?)"
   ]
  },
  {
   "cell_type": "code",
   "execution_count": 13,
   "metadata": {},
   "outputs": [
    {
     "data": {
      "text/html": [
       "<div>\n",
       "<style scoped>\n",
       "    .dataframe tbody tr th:only-of-type {\n",
       "        vertical-align: middle;\n",
       "    }\n",
       "\n",
       "    .dataframe tbody tr th {\n",
       "        vertical-align: top;\n",
       "    }\n",
       "\n",
       "    .dataframe thead th {\n",
       "        text-align: right;\n",
       "    }\n",
       "</style>\n",
       "<table border=\"1\" class=\"dataframe\">\n",
       "  <thead>\n",
       "    <tr style=\"text-align: right;\">\n",
       "      <th></th>\n",
       "      <th>budget</th>\n",
       "      <th>revenue</th>\n",
       "      <th>original_title</th>\n",
       "      <th>cast</th>\n",
       "      <th>director</th>\n",
       "      <th>tagline</th>\n",
       "      <th>runtime</th>\n",
       "      <th>genres</th>\n",
       "      <th>production_companies</th>\n",
       "      <th>release_date</th>\n",
       "      <th>release_year</th>\n",
       "      <th>profits</th>\n",
       "    </tr>\n",
       "  </thead>\n",
       "  <tbody>\n",
       "    <tr>\n",
       "      <th>0</th>\n",
       "      <td>150000000</td>\n",
       "      <td>1513528810</td>\n",
       "      <td>Jurassic World</td>\n",
       "      <td>Chris Pratt|Bryce Dallas Howard|Irrfan Khan|Vi...</td>\n",
       "      <td>Colin Trevorrow</td>\n",
       "      <td>The park is open.</td>\n",
       "      <td>124</td>\n",
       "      <td>Action|Adventure|Science Fiction|Thriller</td>\n",
       "      <td>Universal Studios|Amblin Entertainment|Legenda...</td>\n",
       "      <td>2015-06-09</td>\n",
       "      <td>2015</td>\n",
       "      <td>1363528810</td>\n",
       "    </tr>\n",
       "  </tbody>\n",
       "</table>\n",
       "</div>"
      ],
      "text/plain": [
       "      budget     revenue  original_title  \\\n",
       "0  150000000  1513528810  Jurassic World   \n",
       "\n",
       "                                                cast         director  \\\n",
       "0  Chris Pratt|Bryce Dallas Howard|Irrfan Khan|Vi...  Colin Trevorrow   \n",
       "\n",
       "             tagline  runtime                                     genres  \\\n",
       "0  The park is open.      124  Action|Adventure|Science Fiction|Thriller   \n",
       "\n",
       "                                production_companies release_date  \\\n",
       "0  Universal Studios|Amblin Entertainment|Legenda...   2015-06-09   \n",
       "\n",
       "   release_year     profits  \n",
       "0          2015  1363528810  "
      ]
     },
     "execution_count": 13,
     "metadata": {},
     "output_type": "execute_result"
    }
   ],
   "source": [
    "# Calculate profits of every film by subtracting 'revenue' from 'budget'\n",
    "df['profits'] = df['revenue'] - df['budget']\n",
    "\n",
    "# testing\n",
    "df.head(1)"
   ]
  },
  {
   "cell_type": "code",
   "execution_count": 14,
   "metadata": {},
   "outputs": [
    {
     "data": {
      "text/html": [
       "<div>\n",
       "<style scoped>\n",
       "    .dataframe tbody tr th:only-of-type {\n",
       "        vertical-align: middle;\n",
       "    }\n",
       "\n",
       "    .dataframe tbody tr th {\n",
       "        vertical-align: top;\n",
       "    }\n",
       "\n",
       "    .dataframe thead th {\n",
       "        text-align: right;\n",
       "    }\n",
       "</style>\n",
       "<table border=\"1\" class=\"dataframe\">\n",
       "  <thead>\n",
       "    <tr style=\"text-align: right;\">\n",
       "      <th></th>\n",
       "      <th>budget</th>\n",
       "      <th>revenue</th>\n",
       "      <th>original_title</th>\n",
       "      <th>cast</th>\n",
       "      <th>director</th>\n",
       "      <th>tagline</th>\n",
       "      <th>runtime</th>\n",
       "      <th>genres</th>\n",
       "      <th>production_companies</th>\n",
       "      <th>release_date</th>\n",
       "      <th>release_year</th>\n",
       "      <th>profits</th>\n",
       "      <th>ratio_profit_budget</th>\n",
       "    </tr>\n",
       "  </thead>\n",
       "  <tbody>\n",
       "    <tr>\n",
       "      <th>0</th>\n",
       "      <td>150000000</td>\n",
       "      <td>1513528810</td>\n",
       "      <td>Jurassic World</td>\n",
       "      <td>Chris Pratt|Bryce Dallas Howard|Irrfan Khan|Vi...</td>\n",
       "      <td>Colin Trevorrow</td>\n",
       "      <td>The park is open.</td>\n",
       "      <td>124</td>\n",
       "      <td>Action|Adventure|Science Fiction|Thriller</td>\n",
       "      <td>Universal Studios|Amblin Entertainment|Legenda...</td>\n",
       "      <td>2015-06-09</td>\n",
       "      <td>2015</td>\n",
       "      <td>1363528810</td>\n",
       "      <td>9.090192</td>\n",
       "    </tr>\n",
       "  </tbody>\n",
       "</table>\n",
       "</div>"
      ],
      "text/plain": [
       "      budget     revenue  original_title  \\\n",
       "0  150000000  1513528810  Jurassic World   \n",
       "\n",
       "                                                cast         director  \\\n",
       "0  Chris Pratt|Bryce Dallas Howard|Irrfan Khan|Vi...  Colin Trevorrow   \n",
       "\n",
       "             tagline  runtime                                     genres  \\\n",
       "0  The park is open.      124  Action|Adventure|Science Fiction|Thriller   \n",
       "\n",
       "                                production_companies release_date  \\\n",
       "0  Universal Studios|Amblin Entertainment|Legenda...   2015-06-09   \n",
       "\n",
       "   release_year     profits  ratio_profit_budget  \n",
       "0          2015  1363528810             9.090192  "
      ]
     },
     "execution_count": 14,
     "metadata": {},
     "output_type": "execute_result"
    }
   ],
   "source": [
    "# Calculate the ratio of profits to budget\n",
    "df['ratio_profit_budget'] = df['profits'] / df['budget']\n",
    "\n",
    "# testing\n",
    "df.head(1)"
   ]
  },
  {
   "cell_type": "markdown",
   "metadata": {},
   "source": [
    ">**we need to filter data to analysis the features of profitable films.<br>we will consider that the films with profits more than \"25M $\" is profitable.**"
   ]
  },
  {
   "cell_type": "code",
   "execution_count": 15,
   "metadata": {},
   "outputs": [],
   "source": [
    "# Divide the data into two parts:one of them for films which has profits and the other part for films which has no profits.\n",
    "df_pro = df.query('profits > 25000000')\n",
    "df_nonpro = df.query('profits < 25000000')"
   ]
  },
  {
   "cell_type": "code",
   "execution_count": 16,
   "metadata": {
    "scrolled": true
   },
   "outputs": [
    {
     "data": {
      "text/html": [
       "<div>\n",
       "<style scoped>\n",
       "    .dataframe tbody tr th:only-of-type {\n",
       "        vertical-align: middle;\n",
       "    }\n",
       "\n",
       "    .dataframe tbody tr th {\n",
       "        vertical-align: top;\n",
       "    }\n",
       "\n",
       "    .dataframe thead th {\n",
       "        text-align: right;\n",
       "    }\n",
       "</style>\n",
       "<table border=\"1\" class=\"dataframe\">\n",
       "  <thead>\n",
       "    <tr style=\"text-align: right;\">\n",
       "      <th></th>\n",
       "      <th>budget</th>\n",
       "      <th>revenue</th>\n",
       "      <th>original_title</th>\n",
       "      <th>cast</th>\n",
       "      <th>director</th>\n",
       "      <th>tagline</th>\n",
       "      <th>runtime</th>\n",
       "      <th>genres</th>\n",
       "      <th>production_companies</th>\n",
       "      <th>release_date</th>\n",
       "      <th>release_year</th>\n",
       "      <th>profits</th>\n",
       "      <th>ratio_profit_budget</th>\n",
       "      <th>profit_evaluation</th>\n",
       "    </tr>\n",
       "  </thead>\n",
       "  <tbody>\n",
       "    <tr>\n",
       "      <th>0</th>\n",
       "      <td>150000000</td>\n",
       "      <td>1513528810</td>\n",
       "      <td>Jurassic World</td>\n",
       "      <td>Chris Pratt|Bryce Dallas Howard|Irrfan Khan|Vi...</td>\n",
       "      <td>Colin Trevorrow</td>\n",
       "      <td>The park is open.</td>\n",
       "      <td>124</td>\n",
       "      <td>Action|Adventure|Science Fiction|Thriller</td>\n",
       "      <td>Universal Studios|Amblin Entertainment|Legenda...</td>\n",
       "      <td>2015-06-09</td>\n",
       "      <td>2015</td>\n",
       "      <td>1363528810</td>\n",
       "      <td>9.090192</td>\n",
       "      <td>profitable</td>\n",
       "    </tr>\n",
       "  </tbody>\n",
       "</table>\n",
       "</div>"
      ],
      "text/plain": [
       "      budget     revenue  original_title  \\\n",
       "0  150000000  1513528810  Jurassic World   \n",
       "\n",
       "                                                cast         director  \\\n",
       "0  Chris Pratt|Bryce Dallas Howard|Irrfan Khan|Vi...  Colin Trevorrow   \n",
       "\n",
       "             tagline  runtime                                     genres  \\\n",
       "0  The park is open.      124  Action|Adventure|Science Fiction|Thriller   \n",
       "\n",
       "                                production_companies release_date  \\\n",
       "0  Universal Studios|Amblin Entertainment|Legenda...   2015-06-09   \n",
       "\n",
       "   release_year     profits  ratio_profit_budget profit_evaluation  \n",
       "0          2015  1363528810             9.090192        profitable  "
      ]
     },
     "execution_count": 16,
     "metadata": {},
     "output_type": "execute_result"
    }
   ],
   "source": [
    "# To ignore 'SettingWithCopyWarning' message.\n",
    "pd.options.mode.chained_assignment = None\n",
    "\n",
    "# Make an array for profitable films and another one for non-profitable films\n",
    "profitable = np.repeat('profitable',len(df_pro))\n",
    "nonprofitable = np.repeat('non-profitable',len(df_nonpro))\n",
    "\n",
    "# Add 'profit_evaluation'column to the two parts of data which determine how much success the film gains\n",
    "df_pro['profit_evaluation'] = profitable\n",
    "df_nonpro['profit_evaluation'] = nonprofitable\n",
    "\n",
    "# Gather the two parts again after add 'profit_evaluation'column to them\n",
    "df_profits = df_pro.append(df_nonpro)\n",
    "\n",
    "# testing\n",
    "df_profits.head(1)"
   ]
  },
  {
   "cell_type": "code",
   "execution_count": 17,
   "metadata": {},
   "outputs": [],
   "source": [
    "# Build the fuction which returns information about films with highest and lowest values in columns as column'profits'\n",
    "def max_min_values_films(column_name,value_wanted):\n",
    "    '''\n",
    "    This function takes 'the column' which we want to know its max or min value and 'the value we want',\n",
    "    is that the max value'x' or the min value'n'?,\n",
    "    then returns the min or max value in the column,\n",
    "    then print the information of the film which have the value(min or max).\n",
    "    Hint :\"value_wanted\", max value takes \"x\" and min value take \"n\".\n",
    "    '''\n",
    "    df_max_min = []\n",
    "    if value_wanted == 'x':\n",
    "        # assign 'df_max_min' to the row which contains the higest column_name\n",
    "        max_value = df_profits[column_name].max()\n",
    "        df_max_min = df_profits[df_profits[column_name] == max_value]\n",
    "        \n",
    "    elif value_wanted == 'n':\n",
    "        # assign 'df_max_min' to the row which contains the lowest column_name\n",
    "        min_value = df_profits[column_name].min()\n",
    "        df_max_min = df_profits[df_profits[column_name] == min_value]\n",
    "        \n",
    "    else:\n",
    "        # print a message that tells the user that he enters a valid value to 'value_wanted'\n",
    "        print('function can not define the \"value_wanted\",please enter the right \"value_wanted\".')\n",
    "        print('Hint :\"value_wanted\", max value takes \"x\" and min value take \"n\"')\n",
    "        \n",
    "\n",
    "    # print the film information from data vertically\n",
    "    for index, row in df_max_min.iterrows():\n",
    "        display(row.to_frame())"
   ]
  },
  {
   "cell_type": "markdown",
   "metadata": {},
   "source": [
    ">**The most successful film and the most unsucessful film based on only profits.(not very accurate)**"
   ]
  },
  {
   "cell_type": "code",
   "execution_count": 18,
   "metadata": {},
   "outputs": [
    {
     "data": {
      "text/html": [
       "<div>\n",
       "<style scoped>\n",
       "    .dataframe tbody tr th:only-of-type {\n",
       "        vertical-align: middle;\n",
       "    }\n",
       "\n",
       "    .dataframe tbody tr th {\n",
       "        vertical-align: top;\n",
       "    }\n",
       "\n",
       "    .dataframe thead th {\n",
       "        text-align: right;\n",
       "    }\n",
       "</style>\n",
       "<table border=\"1\" class=\"dataframe\">\n",
       "  <thead>\n",
       "    <tr style=\"text-align: right;\">\n",
       "      <th></th>\n",
       "      <th>1386</th>\n",
       "    </tr>\n",
       "  </thead>\n",
       "  <tbody>\n",
       "    <tr>\n",
       "      <th>budget</th>\n",
       "      <td>237000000</td>\n",
       "    </tr>\n",
       "    <tr>\n",
       "      <th>revenue</th>\n",
       "      <td>2781505847</td>\n",
       "    </tr>\n",
       "    <tr>\n",
       "      <th>original_title</th>\n",
       "      <td>Avatar</td>\n",
       "    </tr>\n",
       "    <tr>\n",
       "      <th>cast</th>\n",
       "      <td>Sam Worthington|Zoe Saldana|Sigourney Weaver|S...</td>\n",
       "    </tr>\n",
       "    <tr>\n",
       "      <th>director</th>\n",
       "      <td>James Cameron</td>\n",
       "    </tr>\n",
       "    <tr>\n",
       "      <th>tagline</th>\n",
       "      <td>Enter the World of Pandora.</td>\n",
       "    </tr>\n",
       "    <tr>\n",
       "      <th>runtime</th>\n",
       "      <td>162</td>\n",
       "    </tr>\n",
       "    <tr>\n",
       "      <th>genres</th>\n",
       "      <td>Action|Adventure|Fantasy|Science Fiction</td>\n",
       "    </tr>\n",
       "    <tr>\n",
       "      <th>production_companies</th>\n",
       "      <td>Ingenious Film Partners|Twentieth Century Fox ...</td>\n",
       "    </tr>\n",
       "    <tr>\n",
       "      <th>release_date</th>\n",
       "      <td>2009-12-10 00:00:00</td>\n",
       "    </tr>\n",
       "    <tr>\n",
       "      <th>release_year</th>\n",
       "      <td>2009</td>\n",
       "    </tr>\n",
       "    <tr>\n",
       "      <th>profits</th>\n",
       "      <td>2544505847</td>\n",
       "    </tr>\n",
       "    <tr>\n",
       "      <th>ratio_profit_budget</th>\n",
       "      <td>10.7363</td>\n",
       "    </tr>\n",
       "    <tr>\n",
       "      <th>profit_evaluation</th>\n",
       "      <td>profitable</td>\n",
       "    </tr>\n",
       "  </tbody>\n",
       "</table>\n",
       "</div>"
      ],
      "text/plain": [
       "                                                                   1386\n",
       "budget                                                        237000000\n",
       "revenue                                                      2781505847\n",
       "original_title                                                   Avatar\n",
       "cast                  Sam Worthington|Zoe Saldana|Sigourney Weaver|S...\n",
       "director                                                  James Cameron\n",
       "tagline                                     Enter the World of Pandora.\n",
       "runtime                                                             162\n",
       "genres                         Action|Adventure|Fantasy|Science Fiction\n",
       "production_companies  Ingenious Film Partners|Twentieth Century Fox ...\n",
       "release_date                                        2009-12-10 00:00:00\n",
       "release_year                                                       2009\n",
       "profits                                                      2544505847\n",
       "ratio_profit_budget                                             10.7363\n",
       "profit_evaluation                                            profitable"
      ]
     },
     "metadata": {},
     "output_type": "display_data"
    }
   ],
   "source": [
    "# print the information of the film which has the higest profits\n",
    "max_min_values_films('profits','x')"
   ]
  },
  {
   "cell_type": "code",
   "execution_count": 19,
   "metadata": {},
   "outputs": [
    {
     "data": {
      "text/html": [
       "<div>\n",
       "<style scoped>\n",
       "    .dataframe tbody tr th:only-of-type {\n",
       "        vertical-align: middle;\n",
       "    }\n",
       "\n",
       "    .dataframe tbody tr th {\n",
       "        vertical-align: top;\n",
       "    }\n",
       "\n",
       "    .dataframe thead th {\n",
       "        text-align: right;\n",
       "    }\n",
       "</style>\n",
       "<table border=\"1\" class=\"dataframe\">\n",
       "  <thead>\n",
       "    <tr style=\"text-align: right;\">\n",
       "      <th></th>\n",
       "      <th>2244</th>\n",
       "    </tr>\n",
       "  </thead>\n",
       "  <tbody>\n",
       "    <tr>\n",
       "      <th>budget</th>\n",
       "      <td>425000000</td>\n",
       "    </tr>\n",
       "    <tr>\n",
       "      <th>revenue</th>\n",
       "      <td>11087569</td>\n",
       "    </tr>\n",
       "    <tr>\n",
       "      <th>original_title</th>\n",
       "      <td>The Warrior's Way</td>\n",
       "    </tr>\n",
       "    <tr>\n",
       "      <th>cast</th>\n",
       "      <td>Kate Bosworth|Jang Dong-gun|Geoffrey Rush|Dann...</td>\n",
       "    </tr>\n",
       "    <tr>\n",
       "      <th>director</th>\n",
       "      <td>Sngmoo Lee</td>\n",
       "    </tr>\n",
       "    <tr>\n",
       "      <th>tagline</th>\n",
       "      <td>Assassin. Hero. Legend.</td>\n",
       "    </tr>\n",
       "    <tr>\n",
       "      <th>runtime</th>\n",
       "      <td>100</td>\n",
       "    </tr>\n",
       "    <tr>\n",
       "      <th>genres</th>\n",
       "      <td>Adventure|Fantasy|Action|Western|Thriller</td>\n",
       "    </tr>\n",
       "    <tr>\n",
       "      <th>production_companies</th>\n",
       "      <td>Boram Entertainment Inc.</td>\n",
       "    </tr>\n",
       "    <tr>\n",
       "      <th>release_date</th>\n",
       "      <td>2010-12-02 00:00:00</td>\n",
       "    </tr>\n",
       "    <tr>\n",
       "      <th>release_year</th>\n",
       "      <td>2010</td>\n",
       "    </tr>\n",
       "    <tr>\n",
       "      <th>profits</th>\n",
       "      <td>-413912431</td>\n",
       "    </tr>\n",
       "    <tr>\n",
       "      <th>ratio_profit_budget</th>\n",
       "      <td>-0.973912</td>\n",
       "    </tr>\n",
       "    <tr>\n",
       "      <th>profit_evaluation</th>\n",
       "      <td>non-profitable</td>\n",
       "    </tr>\n",
       "  </tbody>\n",
       "</table>\n",
       "</div>"
      ],
      "text/plain": [
       "                                                                   2244\n",
       "budget                                                        425000000\n",
       "revenue                                                        11087569\n",
       "original_title                                        The Warrior's Way\n",
       "cast                  Kate Bosworth|Jang Dong-gun|Geoffrey Rush|Dann...\n",
       "director                                                     Sngmoo Lee\n",
       "tagline                                         Assassin. Hero. Legend.\n",
       "runtime                                                             100\n",
       "genres                        Adventure|Fantasy|Action|Western|Thriller\n",
       "production_companies                           Boram Entertainment Inc.\n",
       "release_date                                        2010-12-02 00:00:00\n",
       "release_year                                                       2010\n",
       "profits                                                      -413912431\n",
       "ratio_profit_budget                                           -0.973912\n",
       "profit_evaluation                                        non-profitable"
      ]
     },
     "metadata": {},
     "output_type": "display_data"
    }
   ],
   "source": [
    "# print the information of the film which has the lowest profits\n",
    "max_min_values_films('profits','n')"
   ]
  },
  {
   "cell_type": "markdown",
   "metadata": {},
   "source": [
    ">**The most successful film and the most unsucessful film based on the ratio of the film's profits to the film's budget.(very accurate)**"
   ]
  },
  {
   "cell_type": "code",
   "execution_count": 20,
   "metadata": {},
   "outputs": [
    {
     "data": {
      "text/html": [
       "<div>\n",
       "<style scoped>\n",
       "    .dataframe tbody tr th:only-of-type {\n",
       "        vertical-align: middle;\n",
       "    }\n",
       "\n",
       "    .dataframe tbody tr th {\n",
       "        vertical-align: top;\n",
       "    }\n",
       "\n",
       "    .dataframe thead th {\n",
       "        text-align: right;\n",
       "    }\n",
       "</style>\n",
       "<table border=\"1\" class=\"dataframe\">\n",
       "  <thead>\n",
       "    <tr style=\"text-align: right;\">\n",
       "      <th></th>\n",
       "      <th>7178</th>\n",
       "    </tr>\n",
       "  </thead>\n",
       "  <tbody>\n",
       "    <tr>\n",
       "      <th>budget</th>\n",
       "      <td>65000</td>\n",
       "    </tr>\n",
       "    <tr>\n",
       "      <th>revenue</th>\n",
       "      <td>28575078</td>\n",
       "    </tr>\n",
       "    <tr>\n",
       "      <th>original_title</th>\n",
       "      <td>Super Size Me</td>\n",
       "    </tr>\n",
       "    <tr>\n",
       "      <th>cast</th>\n",
       "      <td>Morgan Spurlock|Daryl Isaacs|Lisa Ganjhu|Steph...</td>\n",
       "    </tr>\n",
       "    <tr>\n",
       "      <th>director</th>\n",
       "      <td>Morgan Spurlock</td>\n",
       "    </tr>\n",
       "    <tr>\n",
       "      <th>tagline</th>\n",
       "      <td>The first ever reality-based movie ... everyth...</td>\n",
       "    </tr>\n",
       "    <tr>\n",
       "      <th>runtime</th>\n",
       "      <td>100</td>\n",
       "    </tr>\n",
       "    <tr>\n",
       "      <th>genres</th>\n",
       "      <td>Documentary|Comedy|Drama</td>\n",
       "    </tr>\n",
       "    <tr>\n",
       "      <th>production_companies</th>\n",
       "      <td>Kathbur Pictures</td>\n",
       "    </tr>\n",
       "    <tr>\n",
       "      <th>release_date</th>\n",
       "      <td>2004-01-17 00:00:00</td>\n",
       "    </tr>\n",
       "    <tr>\n",
       "      <th>release_year</th>\n",
       "      <td>2004</td>\n",
       "    </tr>\n",
       "    <tr>\n",
       "      <th>profits</th>\n",
       "      <td>28510078</td>\n",
       "    </tr>\n",
       "    <tr>\n",
       "      <th>ratio_profit_budget</th>\n",
       "      <td>438.617</td>\n",
       "    </tr>\n",
       "    <tr>\n",
       "      <th>profit_evaluation</th>\n",
       "      <td>profitable</td>\n",
       "    </tr>\n",
       "  </tbody>\n",
       "</table>\n",
       "</div>"
      ],
      "text/plain": [
       "                                                                   7178\n",
       "budget                                                            65000\n",
       "revenue                                                        28575078\n",
       "original_title                                            Super Size Me\n",
       "cast                  Morgan Spurlock|Daryl Isaacs|Lisa Ganjhu|Steph...\n",
       "director                                                Morgan Spurlock\n",
       "tagline               The first ever reality-based movie ... everyth...\n",
       "runtime                                                             100\n",
       "genres                                         Documentary|Comedy|Drama\n",
       "production_companies                                   Kathbur Pictures\n",
       "release_date                                        2004-01-17 00:00:00\n",
       "release_year                                                       2004\n",
       "profits                                                        28510078\n",
       "ratio_profit_budget                                             438.617\n",
       "profit_evaluation                                            profitable"
      ]
     },
     "metadata": {},
     "output_type": "display_data"
    }
   ],
   "source": [
    "# print the information of the film which has the higest ratio_profit_budget\n",
    "max_min_values_films('ratio_profit_budget','x')"
   ]
  },
  {
   "cell_type": "code",
   "execution_count": 21,
   "metadata": {},
   "outputs": [
    {
     "data": {
      "text/html": [
       "<div>\n",
       "<style scoped>\n",
       "    .dataframe tbody tr th:only-of-type {\n",
       "        vertical-align: middle;\n",
       "    }\n",
       "\n",
       "    .dataframe tbody tr th {\n",
       "        vertical-align: top;\n",
       "    }\n",
       "\n",
       "    .dataframe thead th {\n",
       "        text-align: right;\n",
       "    }\n",
       "</style>\n",
       "<table border=\"1\" class=\"dataframe\">\n",
       "  <thead>\n",
       "    <tr style=\"text-align: right;\">\n",
       "      <th></th>\n",
       "      <th>4859</th>\n",
       "    </tr>\n",
       "  </thead>\n",
       "  <tbody>\n",
       "    <tr>\n",
       "      <th>budget</th>\n",
       "      <td>65000000</td>\n",
       "    </tr>\n",
       "    <tr>\n",
       "      <th>revenue</th>\n",
       "      <td>73706</td>\n",
       "    </tr>\n",
       "    <tr>\n",
       "      <th>original_title</th>\n",
       "      <td>Foodfight!</td>\n",
       "    </tr>\n",
       "    <tr>\n",
       "      <th>cast</th>\n",
       "      <td>Charlie Sheen|Wayne Brady|Hilary Duff|Eva Long...</td>\n",
       "    </tr>\n",
       "    <tr>\n",
       "      <th>director</th>\n",
       "      <td>Lawrence Kasanoff</td>\n",
       "    </tr>\n",
       "    <tr>\n",
       "      <th>tagline</th>\n",
       "      <td>When good food... goes bad!</td>\n",
       "    </tr>\n",
       "    <tr>\n",
       "      <th>runtime</th>\n",
       "      <td>87</td>\n",
       "    </tr>\n",
       "    <tr>\n",
       "      <th>genres</th>\n",
       "      <td>Animation|Action|Comedy|Family</td>\n",
       "    </tr>\n",
       "    <tr>\n",
       "      <th>production_companies</th>\n",
       "      <td>Threshold Entertainment|Lions Gate Family Ente...</td>\n",
       "    </tr>\n",
       "    <tr>\n",
       "      <th>release_date</th>\n",
       "      <td>2012-06-15 00:00:00</td>\n",
       "    </tr>\n",
       "    <tr>\n",
       "      <th>release_year</th>\n",
       "      <td>2012</td>\n",
       "    </tr>\n",
       "    <tr>\n",
       "      <th>profits</th>\n",
       "      <td>-64926294</td>\n",
       "    </tr>\n",
       "    <tr>\n",
       "      <th>ratio_profit_budget</th>\n",
       "      <td>-0.998866</td>\n",
       "    </tr>\n",
       "    <tr>\n",
       "      <th>profit_evaluation</th>\n",
       "      <td>non-profitable</td>\n",
       "    </tr>\n",
       "  </tbody>\n",
       "</table>\n",
       "</div>"
      ],
      "text/plain": [
       "                                                                   4859\n",
       "budget                                                         65000000\n",
       "revenue                                                           73706\n",
       "original_title                                               Foodfight!\n",
       "cast                  Charlie Sheen|Wayne Brady|Hilary Duff|Eva Long...\n",
       "director                                              Lawrence Kasanoff\n",
       "tagline                                     When good food... goes bad!\n",
       "runtime                                                              87\n",
       "genres                                   Animation|Action|Comedy|Family\n",
       "production_companies  Threshold Entertainment|Lions Gate Family Ente...\n",
       "release_date                                        2012-06-15 00:00:00\n",
       "release_year                                                       2012\n",
       "profits                                                       -64926294\n",
       "ratio_profit_budget                                           -0.998866\n",
       "profit_evaluation                                        non-profitable"
      ]
     },
     "metadata": {},
     "output_type": "display_data"
    }
   ],
   "source": [
    "# print the information of the film which has the higest ratio_profit_budget\n",
    "max_min_values_films('ratio_profit_budget','n')"
   ]
  },
  {
   "cell_type": "markdown",
   "metadata": {},
   "source": [
    "<a id='2'></a>\n",
    "### Research Question 2  (what is the runtime range of profitable films and non-profitables films?And which type of films have the long runtime {profitable ones or the non-profitable ones}?)<br>\n",
    "> **Observations from plots:**<br>\n",
    "**1-**Most films have runtime value in approximate interval[55:215].(from POLT 0)  \n",
    "**2-**The runtime range of profitable is almost in approximate interval [70:250] minutes.(from POLT 1)  \n",
    "**3-**The runtime range of non-profitable is almost in approximate interval [55:245] minutes.(from POLT 2)  \n",
    "**4-**There are outliers in the plot of profitable films and the plot of non_profitable films (we ignore them).(from POLT 2 and POLT3)  \n",
    "**5-**Profitable films which have runtime in approximate interval[90:155] minutes are alot compared to other runtime values .(from POLT 1)  \n",
    "**6-**Non-profitable films which have runtime in approximate interval[90:150] minutes are alot compared to other runtime values.(from POLT 2)  \n",
    "**7-**The proportion of Long and very long runtime profitable films is higher than non-profitable films.(from POLT 3)  \n",
    "**8-**The proportion of short runtime profitable films is lower than non-profitable films.(from POLT 3)  \n",
    "**9-**POLT 3,it shows to us that long films(in approximate interval [100:150] minutes) are produced alot('long' bars are the tallest in the polt for both film types).  \n",
    "**10-**The answer of the second question(which type of films have the long runtime?) is 'all types have almost the same runtime range but the proportion of films is different as seen in observations(7,8,9)'."
   ]
  },
  {
   "cell_type": "markdown",
   "metadata": {},
   "source": [
    "> **Initial polting ( which gives us an quich view for data).**"
   ]
  },
  {
   "cell_type": "code",
   "execution_count": 22,
   "metadata": {},
   "outputs": [
    {
     "data": {
      "image/png": "[encoded data removed]",
      "text/plain": [
       "<Figure size 432x288 with 1 Axes>"
      ]
     },
     "metadata": {
      "needs_background": "light"
     },
     "output_type": "display_data"
    }
   ],
   "source": [
    "# polt histogram of all films runtime\n",
    "df_profits.runtime.plot(kind='hist');\n",
    "\n",
    "# title and labels\n",
    "plt.title('POLT 0: runtime of all films')\n",
    "plt.xlabel('runtime');"
   ]
  },
  {
   "cell_type": "code",
   "execution_count": 23,
   "metadata": {},
   "outputs": [
    {
     "data": {
      "image/png": "[encoded data removed]",
      "text/plain": [
       "<Figure size 432x288 with 1 Axes>"
      ]
     },
     "metadata": {
      "needs_background": "light"
     },
     "output_type": "display_data"
    }
   ],
   "source": [
    "# polt histogram of profitable films runtime\n",
    "df_profits.query('profit_evaluation == \"profitable\"').runtime.plot(kind='hist')\n",
    "\n",
    "# title and labels\n",
    "plt.title('POLT 1: runtime of profitable films')\n",
    "plt.xlabel('runtime');"
   ]
  },
  {
   "cell_type": "code",
   "execution_count": 24,
   "metadata": {},
   "outputs": [
    {
     "data": {
      "image/png": "[encoded data removed]",
      "text/plain": [
       "<Figure size 432x288 with 1 Axes>"
      ]
     },
     "metadata": {
      "needs_background": "light"
     },
     "output_type": "display_data"
    }
   ],
   "source": [
    "# polt histogram of non-profitable films runtime\n",
    "df_profits.query('profit_evaluation == \"non-profitable\"').runtime.plot(kind='hist')\n",
    "\n",
    "\n",
    "# title and labels\n",
    "plt.title('POLT 2: runtime of non-profitable films')\n",
    "plt.xlabel('runtime');"
   ]
  },
  {
   "cell_type": "markdown",
   "metadata": {},
   "source": [
    "> **To be more accurate, we will divide the column'runtime' into three groups (short,long,very_long) and we will group the data by the new column 'film_runtime_type' (which contains the three groups) and calulate the ratio of the films count of each group to the films count of each type(profitable and non-profitable).**"
   ]
  },
  {
   "cell_type": "code",
   "execution_count": 25,
   "metadata": {},
   "outputs": [
    {
     "data": {
      "text/html": [
       "<div>\n",
       "<style scoped>\n",
       "    .dataframe tbody tr th:only-of-type {\n",
       "        vertical-align: middle;\n",
       "    }\n",
       "\n",
       "    .dataframe tbody tr th {\n",
       "        vertical-align: top;\n",
       "    }\n",
       "\n",
       "    .dataframe thead th {\n",
       "        text-align: right;\n",
       "    }\n",
       "</style>\n",
       "<table border=\"1\" class=\"dataframe\">\n",
       "  <thead>\n",
       "    <tr style=\"text-align: right;\">\n",
       "      <th></th>\n",
       "      <th>budget</th>\n",
       "      <th>revenue</th>\n",
       "      <th>original_title</th>\n",
       "      <th>cast</th>\n",
       "      <th>director</th>\n",
       "      <th>tagline</th>\n",
       "      <th>runtime</th>\n",
       "      <th>genres</th>\n",
       "      <th>production_companies</th>\n",
       "      <th>release_date</th>\n",
       "      <th>release_year</th>\n",
       "      <th>profits</th>\n",
       "      <th>ratio_profit_budget</th>\n",
       "      <th>profit_evaluation</th>\n",
       "      <th>film_runtime_type</th>\n",
       "    </tr>\n",
       "  </thead>\n",
       "  <tbody>\n",
       "    <tr>\n",
       "      <th>0</th>\n",
       "      <td>150000000</td>\n",
       "      <td>1513528810</td>\n",
       "      <td>Jurassic World</td>\n",
       "      <td>Chris Pratt|Bryce Dallas Howard|Irrfan Khan|Vi...</td>\n",
       "      <td>Colin Trevorrow</td>\n",
       "      <td>The park is open.</td>\n",
       "      <td>124</td>\n",
       "      <td>Action|Adventure|Science Fiction|Thriller</td>\n",
       "      <td>Universal Studios|Amblin Entertainment|Legenda...</td>\n",
       "      <td>2015-06-09</td>\n",
       "      <td>2015</td>\n",
       "      <td>1363528810</td>\n",
       "      <td>9.090192</td>\n",
       "      <td>profitable</td>\n",
       "      <td>long</td>\n",
       "    </tr>\n",
       "  </tbody>\n",
       "</table>\n",
       "</div>"
      ],
      "text/plain": [
       "      budget     revenue  original_title  \\\n",
       "0  150000000  1513528810  Jurassic World   \n",
       "\n",
       "                                                cast         director  \\\n",
       "0  Chris Pratt|Bryce Dallas Howard|Irrfan Khan|Vi...  Colin Trevorrow   \n",
       "\n",
       "             tagline  runtime                                     genres  \\\n",
       "0  The park is open.      124  Action|Adventure|Science Fiction|Thriller   \n",
       "\n",
       "                                production_companies release_date  \\\n",
       "0  Universal Studios|Amblin Entertainment|Legenda...   2015-06-09   \n",
       "\n",
       "   release_year     profits  ratio_profit_budget profit_evaluation  \\\n",
       "0          2015  1363528810             9.090192        profitable   \n",
       "\n",
       "  film_runtime_type  \n",
       "0              long  "
      ]
     },
     "execution_count": 25,
     "metadata": {},
     "output_type": "execute_result"
    }
   ],
   "source": [
    "# Bin edges that will be used to cut the data into three groups\n",
    "bin_edges = [60,100,150,250] #note: we ignore the outliers because they will give us inaccurate results\n",
    "\n",
    "# Bin names that will be used to name the three groups\n",
    "bin_names = ['short','long','very_long']\n",
    "\n",
    "# Create the column 'film_runtime_type' which determines which group the film will be in based on column 'runtime'\n",
    "df_profits['film_runtime_type'] = pd.cut(df['runtime'],bin_edges,labels = bin_names)\n",
    "\n",
    "# testing\n",
    "df_profits.head(1)"
   ]
  },
  {
   "cell_type": "code",
   "execution_count": 26,
   "metadata": {},
   "outputs": [
    {
     "data": {
      "text/plain": [
       "profit_evaluation  film_runtime_type\n",
       "non-profitable     short                 752\n",
       "                   long                  949\n",
       "                   very_long              35\n",
       "profitable         short                 565\n",
       "                   long                 1087\n",
       "                   very_long              88\n",
       "Name: runtime, dtype: int64"
      ]
     },
     "execution_count": 26,
     "metadata": {},
     "output_type": "execute_result"
    }
   ],
   "source": [
    "# group the data by 'profit_evaluation' first and 'film_runtime_type' second,then count all films for every group and type\n",
    "film_runtime_type_totals = df_profits.groupby(['profit_evaluation','film_runtime_type']).runtime.count()\n",
    "\n",
    "# testing\n",
    "film_runtime_type_totals"
   ]
  },
  {
   "cell_type": "code",
   "execution_count": 27,
   "metadata": {},
   "outputs": [
    {
     "data": {
      "text/plain": [
       "profit_evaluation\n",
       "non-profitable    1738\n",
       "profitable        1740\n",
       "Name: runtime, dtype: int64"
      ]
     },
     "execution_count": 27,
     "metadata": {},
     "output_type": "execute_result"
    }
   ],
   "source": [
    "# group the data by 'profit_evaluation',then count profitable and non-profitable films\n",
    "film_runtime_type_counts = df_profits.groupby('profit_evaluation').runtime.count()\n",
    "\n",
    "# testing\n",
    "film_runtime_type_counts"
   ]
  },
  {
   "cell_type": "code",
   "execution_count": 28,
   "metadata": {},
   "outputs": [
    {
     "data": {
      "text/plain": [
       "film_runtime_type\n",
       "short        0.324713\n",
       "long         0.624713\n",
       "very_long    0.050575\n",
       "Name: runtime, dtype: float64"
      ]
     },
     "execution_count": 28,
     "metadata": {},
     "output_type": "execute_result"
    }
   ],
   "source": [
    "# to get the proportions ,we will divide 'film_runtime_type_totals' on 'film_runtime_type_counts' for only profitable films\n",
    "profitable_proportions = film_runtime_type_totals['profitable'] / film_runtime_type_counts['profitable']\n",
    "\n",
    "# testing\n",
    "profitable_proportions"
   ]
  },
  {
   "cell_type": "code",
   "execution_count": 29,
   "metadata": {},
   "outputs": [
    {
     "data": {
      "text/plain": [
       "film_runtime_type\n",
       "short        0.432681\n",
       "long         0.546030\n",
       "very_long    0.020138\n",
       "Name: runtime, dtype: float64"
      ]
     },
     "execution_count": 29,
     "metadata": {},
     "output_type": "execute_result"
    }
   ],
   "source": [
    "# to get the proportions ,we will divide 'film_runtime_type_totals' on 'film_runtime_type_counts' for only non-profitable films\n",
    "non_profitable_proportions = film_runtime_type_totals['non-profitable'] / film_runtime_type_counts['non-profitable']\n",
    "\n",
    "# testing\n",
    "non_profitable_proportions"
   ]
  },
  {
   "cell_type": "code",
   "execution_count": 30,
   "metadata": {},
   "outputs": [
    {
     "data": {
      "image/png": "[encoded data removed]",
      "text/plain": [
       "<Figure size 720x504 with 1 Axes>"
      ]
     },
     "metadata": {
      "needs_background": "light"
     },
     "output_type": "display_data"
    }
   ],
   "source": [
    "ind = np.arange(len(profitable_proportions))     # the x locations for the groups\n",
    "width = 0.4                                      # the width of every bar\n",
    "\n",
    "# making plot much bigger to make it visible\n",
    "plt.figure(figsize=(10,7))\n",
    "\n",
    "# plot bars\n",
    "profitable_bars = plt.bar(ind, profitable_proportions,width, color='g', alpha=.7, label='Profitable Films Runtime')\n",
    "non_profitable_bars = plt.bar(ind + width, non_profitable_proportions,width, color='r', alpha=.7, label='non-Profitable Films Runtime')\n",
    "\n",
    "# putting a title to the polt and axes\n",
    "plt.title('POLT 3:Proportion by \"Profit Evaluation\" and \"Film Runtime Type\"')\n",
    "plt.ylabel('Proportion')\n",
    "plt.xlabel('Film Runtime Type')\n",
    "locations = ind + width / 2            # xtick locations\n",
    "labels = ['short','long','very_long']  # xtick labels\n",
    "plt.xticks(locations, labels)\n",
    "\n",
    "# legend\n",
    "plt.legend();"
   ]
  },
  {
   "cell_type": "markdown",
   "metadata": {},
   "source": [
    "<a id='3'></a>\n",
    "### Research Question 3  (What is the year which have high productivity of profitable films?<br>And what is the year which have low productivity of profitable films?<br>And what is the most profitable year?<br>And what is the most non-profitable year?)<br><br>\n",
    ">**Answers of the Questions:**<br>\n",
    "**1-**The year which has high productivity of profitable films is 2011.(Ans Q3.1)  \n",
    "**2-**The years which have low productivity of profitable films are 1966.(Ans Q3.2)  \n",
    "**3-**The most profitable year(Based on only profits) is 2015 and also this year has also the greatest profits in the history.(Ans Q3.3)  \n",
    "**4-**The most profitable year(Based on ratio of profits to budget) is 1975.(Ans Q3.3)  \n",
    "**5-**The most non-profitable year(Based on only profits) is 1966 and this year has also the lowest profits in the history.(Ans Q3.4)  \n",
    "**6-**The most non-profitable year(Based on ratio of profits to budget) is 2000.(ans Q3.4)<br><br>\n",
    "\n",
    ">**Observations from the polts:**<br>\n",
    "**1-**(from PLOT 4),it seems that the productivity of films increases by years and there are only one fall in productivity(the fall was almost after year 2010).  \n",
    "**2-**(from PLOT 5),it seems that the average budgets increases by years and there are only one great fall(it was after year 2010)  \n",
    "**3-**(from PLOT 6),it seems that the average profits is periodically distributed but in general the average profits increases by long periods (that means it is realy hard to predict the average profits in the next years with avaliable data,but in any way after a long time from now the average profits will be higher than now).  \n",
    "**4-**(from PLOT 7),it seems that the ratio of profits to budgets is periodically distributed in the first years but almost after year 1978 the ratio decreases by years and in the last years it seems constient by the time(that means that although the average profits is periodically distributed over all time, the profits with respect to budgets decreases by years(may be the reason of that is the hacking of films which increases and developes by the time))<br>**note :This polt is better than the pervious polt because at least we can make good predictions based on it.**  \n",
    "**5-**(from PLOT 8),it seems that the sum of profits for every year increases by time(that means the field of films production is quite profitable, but (from PLOt 6),it seems that the profits sum distribution by years isn't proportional to profits average distribution by years **what makes us prefer the PLOT 8 to the PLOT 6 and POLT 7 becaues it is the best to make good predictions like(increasing of profits by year)**)"
   ]
  },
  {
   "cell_type": "code",
   "execution_count": 31,
   "metadata": {},
   "outputs": [
    {
     "data": {
      "text/html": [
       "<div>\n",
       "<style scoped>\n",
       "    .dataframe tbody tr th:only-of-type {\n",
       "        vertical-align: middle;\n",
       "    }\n",
       "\n",
       "    .dataframe tbody tr th {\n",
       "        vertical-align: top;\n",
       "    }\n",
       "\n",
       "    .dataframe thead th {\n",
       "        text-align: right;\n",
       "    }\n",
       "</style>\n",
       "<table border=\"1\" class=\"dataframe\">\n",
       "  <thead>\n",
       "    <tr style=\"text-align: right;\">\n",
       "      <th></th>\n",
       "      <th>films_counts</th>\n",
       "      <th>budget_mean</th>\n",
       "      <th>profits_mean</th>\n",
       "      <th>profits_sum</th>\n",
       "      <th>ratio_profit_budget</th>\n",
       "    </tr>\n",
       "    <tr>\n",
       "      <th>release_year</th>\n",
       "      <th></th>\n",
       "      <th></th>\n",
       "      <th></th>\n",
       "      <th></th>\n",
       "      <th></th>\n",
       "    </tr>\n",
       "  </thead>\n",
       "  <tbody>\n",
       "    <tr>\n",
       "      <th>1960</th>\n",
       "      <td>2</td>\n",
       "      <td>6.403474e+06</td>\n",
       "      <td>39596526.0</td>\n",
       "      <td>79193052</td>\n",
       "      <td>6.183601</td>\n",
       "    </tr>\n",
       "    <tr>\n",
       "      <th>1961</th>\n",
       "      <td>2</td>\n",
       "      <td>5.000000e+06</td>\n",
       "      <td>124768418.0</td>\n",
       "      <td>249536836</td>\n",
       "      <td>24.953684</td>\n",
       "    </tr>\n",
       "    <tr>\n",
       "      <th>1962</th>\n",
       "      <td>3</td>\n",
       "      <td>1.036667e+07</td>\n",
       "      <td>49500000.0</td>\n",
       "      <td>148500000</td>\n",
       "      <td>4.774920</td>\n",
       "    </tr>\n",
       "    <tr>\n",
       "      <th>1963</th>\n",
       "      <td>2</td>\n",
       "      <td>1.680750e+07</td>\n",
       "      <td>51516882.5</td>\n",
       "      <td>103033765</td>\n",
       "      <td>3.065113</td>\n",
       "    </tr>\n",
       "    <tr>\n",
       "      <th>1964</th>\n",
       "      <td>3</td>\n",
       "      <td>8.833333e+06</td>\n",
       "      <td>90890909.0</td>\n",
       "      <td>272672727</td>\n",
       "      <td>10.289537</td>\n",
       "    </tr>\n",
       "  </tbody>\n",
       "</table>\n",
       "</div>"
      ],
      "text/plain": [
       "              films_counts   budget_mean  profits_mean  profits_sum  \\\n",
       "release_year                                                          \n",
       "1960                     2  6.403474e+06    39596526.0     79193052   \n",
       "1961                     2  5.000000e+06   124768418.0    249536836   \n",
       "1962                     3  1.036667e+07    49500000.0    148500000   \n",
       "1963                     2  1.680750e+07    51516882.5    103033765   \n",
       "1964                     3  8.833333e+06    90890909.0    272672727   \n",
       "\n",
       "              ratio_profit_budget  \n",
       "release_year                       \n",
       "1960                     6.183601  \n",
       "1961                    24.953684  \n",
       "1962                     4.774920  \n",
       "1963                     3.065113  \n",
       "1964                    10.289537  "
      ]
     },
     "execution_count": 31,
     "metadata": {},
     "output_type": "execute_result"
    }
   ],
   "source": [
    "def df_release_year(film_type = \"pro\"):\n",
    "    '''\n",
    "    this function takes the film type(\"profitable\" or \"non-profitable\") as an argument\n",
    "    then returns the data with four columns the films count, the budget mean, the profits mean, the ratio of profits to budget\n",
    "    for every year based on the type of the film.\n",
    "    HINT :film_type takes:\n",
    "          \"pro\" means \"profitable (by default)\n",
    "          \"non\" means \"non-profitable\"\n",
    "          \"all\" means all films\n",
    "    '''\n",
    "    # define the dataframe 'df_profits_query'\n",
    "    df_profits_query = []\n",
    "    # filter the data based on the 'film_type'\n",
    "    if film_type == \"pro\":\n",
    "        df_profits_query = df_profits.query('profit_evaluation == \"profitable\"')\n",
    "    elif film_type == \"non\":\n",
    "        df_profits_query = df_profits.query('profit_evaluation == \"non-profitable\"')\n",
    "    elif film_type == \"all\":\n",
    "        df_profits_query = df_profits\n",
    "    else:\n",
    "        print(\"the film_type that was entered is not defined by the function.\")\n",
    "        print('HINT :\"film_type\" takes :\"pro\" means \"profitable (by default),\"non\" means \"non-profitable\",\"all\" means all films')\n",
    "\n",
    "        \n",
    "    # group the data by release_year and count the films for every year\n",
    "    df_release_year_counts = df_profits_query.groupby('release_year').count()\n",
    "    # rename any column(such as film_runtime_type) to be represented as films_counts\n",
    "    df_release_year_counts.rename(columns={'film_runtime_type': 'films_counts'}, inplace=True)\n",
    "    \n",
    "    # group the data by release_year and calculate the mean of the films budgets for every year\n",
    "    df_release_year_budget_mean = df_profits_query.groupby('release_year').budget.mean()\n",
    "    \n",
    "    # group the data by release_year and calculate the mean of the films profits for every year\n",
    "    df_release_year_profits_mean = df_profits_query.groupby('release_year').profits.mean()\n",
    "    \n",
    "    # group the data by release_year and calculate the sum of the films profits for every year\n",
    "    df_release_year_profits_sum = df_profits_query.groupby('release_year').profits.sum()\n",
    "\n",
    "    # add the columns 'df_release_year_budgets_mean','df_release_year_profits_mean' and 'df_release_year_profits_sum' to 'df_release_year_counts'\n",
    "    df_release_year_counts['budget_mean'] = df_release_year_budget_mean\n",
    "    df_release_year_counts['profits_mean'] = df_release_year_profits_mean\n",
    "    df_release_year_counts['profits_sum'] = df_release_year_profits_sum\n",
    "    \n",
    "    # calculate the ratio of profits_mean to budget_mean (it is more accurate to know what is the most profitable year)\n",
    "    df_release_year_counts['ratio_profit_budget'] = df_release_year_profits_mean / df_release_year_budget_mean\n",
    "    \n",
    "\n",
    "    # drop the useless columns and keep the columns we need\n",
    "    df_release_year_mean_sum = df_release_year_counts[[\"films_counts\",\"budget_mean\",\"profits_mean\",\"profits_sum\",\"ratio_profit_budget\"]]\n",
    "    \n",
    "    # return the data 'df_release_year'\n",
    "    return df_release_year_mean_sum\n",
    "\n",
    "\n",
    "# testing\n",
    "df_release_year().head()"
   ]
  },
  {
   "cell_type": "code",
   "execution_count": 32,
   "metadata": {},
   "outputs": [],
   "source": [
    "# Build the fuction which returns information about films with highest and lowest values in columns as column'profits'.\n",
    "def max_min_release_year(column_name,value_wanted,film_type):\n",
    "    '''\n",
    "    This function takes 'the column' which we want to know its max or min value and 'the value we want',\n",
    "    is that the max value'x' or the min value'n'?,\n",
    "    then returns the min or max value of the column, \n",
    "    then print the information of the year which have the value(min or max).\n",
    "    Hint :\"value_wanted\", max value takes \"x\" and min value take \"n\"\n",
    "    '''\n",
    "    df_max_min = []\n",
    "    if value_wanted == 'x':\n",
    "        # Assign 'df_max_min' to the row which contains the higest value in 'column_name'.\n",
    "        max_value = df_release_year(film_type)[column_name].max()\n",
    "        df_max_min = df_release_year(film_type)[df_release_year(film_type)[column_name] == max_value]\n",
    "        \n",
    "    elif value_wanted == 'n':\n",
    "        # Assign 'df_max_min' to the row which contains the lowest value in 'column_name'.\n",
    "        min_value = df_release_year(film_type)[column_name].min()\n",
    "        df_max_min = df_release_year(film_type)[df_release_year(film_type)[column_name] == min_value]\n",
    "        \n",
    "    else:\n",
    "        # print a message that tells the user that he enters a valid value to 'value_wanted'.\n",
    "        print('function can not define the \"value_wanted\" you entered,please enter the right \"value_wanted\".')\n",
    "        print('Hint :\"value_wanted\", max value takes \"x\" and min value take \"n\"')\n",
    "        \n",
    "\n",
    "    # Print the film information from data vertically.\n",
    "    for index, row in df_max_min.iterrows():\n",
    "        display(row.to_frame())"
   ]
  },
  {
   "cell_type": "code",
   "execution_count": 33,
   "metadata": {},
   "outputs": [
    {
     "data": {
      "text/html": [
       "<div>\n",
       "<style scoped>\n",
       "    .dataframe tbody tr th:only-of-type {\n",
       "        vertical-align: middle;\n",
       "    }\n",
       "\n",
       "    .dataframe tbody tr th {\n",
       "        vertical-align: top;\n",
       "    }\n",
       "\n",
       "    .dataframe thead th {\n",
       "        text-align: right;\n",
       "    }\n",
       "</style>\n",
       "<table border=\"1\" class=\"dataframe\">\n",
       "  <thead>\n",
       "    <tr style=\"text-align: right;\">\n",
       "      <th></th>\n",
       "      <th>2011</th>\n",
       "    </tr>\n",
       "  </thead>\n",
       "  <tbody>\n",
       "    <tr>\n",
       "      <th>films_counts</th>\n",
       "      <td>8.800000e+01</td>\n",
       "    </tr>\n",
       "    <tr>\n",
       "      <th>budget_mean</th>\n",
       "      <td>6.325227e+07</td>\n",
       "    </tr>\n",
       "    <tr>\n",
       "      <th>profits_mean</th>\n",
       "      <td>1.688119e+08</td>\n",
       "    </tr>\n",
       "    <tr>\n",
       "      <th>profits_sum</th>\n",
       "      <td>1.485545e+10</td>\n",
       "    </tr>\n",
       "    <tr>\n",
       "      <th>ratio_profit_budget</th>\n",
       "      <td>2.668867e+00</td>\n",
       "    </tr>\n",
       "  </tbody>\n",
       "</table>\n",
       "</div>"
      ],
      "text/plain": [
       "                             2011\n",
       "films_counts         8.800000e+01\n",
       "budget_mean          6.325227e+07\n",
       "profits_mean         1.688119e+08\n",
       "profits_sum          1.485545e+10\n",
       "ratio_profit_budget  2.668867e+00"
      ]
     },
     "metadata": {},
     "output_type": "display_data"
    }
   ],
   "source": [
    "# Answer(Q3.1)...the year which have high productivity of profitable films\n",
    "max_min_release_year('films_counts','x','pro')"
   ]
  },
  {
   "cell_type": "code",
   "execution_count": 34,
   "metadata": {},
   "outputs": [
    {
     "data": {
      "text/html": [
       "<div>\n",
       "<style scoped>\n",
       "    .dataframe tbody tr th:only-of-type {\n",
       "        vertical-align: middle;\n",
       "    }\n",
       "\n",
       "    .dataframe tbody tr th {\n",
       "        vertical-align: top;\n",
       "    }\n",
       "\n",
       "    .dataframe thead th {\n",
       "        text-align: right;\n",
       "    }\n",
       "</style>\n",
       "<table border=\"1\" class=\"dataframe\">\n",
       "  <thead>\n",
       "    <tr style=\"text-align: right;\">\n",
       "      <th></th>\n",
       "      <th>1966</th>\n",
       "    </tr>\n",
       "  </thead>\n",
       "  <tbody>\n",
       "    <tr>\n",
       "      <th>films_counts</th>\n",
       "      <td>1.000000e+00</td>\n",
       "    </tr>\n",
       "    <tr>\n",
       "      <th>budget_mean</th>\n",
       "      <td>7.500000e+06</td>\n",
       "    </tr>\n",
       "    <tr>\n",
       "      <th>profits_mean</th>\n",
       "      <td>2.623669e+07</td>\n",
       "    </tr>\n",
       "    <tr>\n",
       "      <th>profits_sum</th>\n",
       "      <td>2.623669e+07</td>\n",
       "    </tr>\n",
       "    <tr>\n",
       "      <th>ratio_profit_budget</th>\n",
       "      <td>3.498225e+00</td>\n",
       "    </tr>\n",
       "  </tbody>\n",
       "</table>\n",
       "</div>"
      ],
      "text/plain": [
       "                             1966\n",
       "films_counts         1.000000e+00\n",
       "budget_mean          7.500000e+06\n",
       "profits_mean         2.623669e+07\n",
       "profits_sum          2.623669e+07\n",
       "ratio_profit_budget  3.498225e+00"
      ]
     },
     "metadata": {},
     "output_type": "display_data"
    }
   ],
   "source": [
    "# Answer(Q3.2)...the year which have low productivity of profitable films\n",
    "max_min_release_year('films_counts','n','pro')"
   ]
  },
  {
   "cell_type": "code",
   "execution_count": 35,
   "metadata": {},
   "outputs": [
    {
     "data": {
      "text/html": [
       "<div>\n",
       "<style scoped>\n",
       "    .dataframe tbody tr th:only-of-type {\n",
       "        vertical-align: middle;\n",
       "    }\n",
       "\n",
       "    .dataframe tbody tr th {\n",
       "        vertical-align: top;\n",
       "    }\n",
       "\n",
       "    .dataframe thead th {\n",
       "        text-align: right;\n",
       "    }\n",
       "</style>\n",
       "<table border=\"1\" class=\"dataframe\">\n",
       "  <thead>\n",
       "    <tr style=\"text-align: right;\">\n",
       "      <th></th>\n",
       "      <th>2015</th>\n",
       "    </tr>\n",
       "  </thead>\n",
       "  <tbody>\n",
       "    <tr>\n",
       "      <th>films_counts</th>\n",
       "      <td>1.480000e+02</td>\n",
       "    </tr>\n",
       "    <tr>\n",
       "      <th>budget_mean</th>\n",
       "      <td>4.732147e+07</td>\n",
       "    </tr>\n",
       "    <tr>\n",
       "      <th>profits_mean</th>\n",
       "      <td>1.279140e+08</td>\n",
       "    </tr>\n",
       "    <tr>\n",
       "      <th>profits_sum</th>\n",
       "      <td>1.893127e+10</td>\n",
       "    </tr>\n",
       "    <tr>\n",
       "      <th>ratio_profit_budget</th>\n",
       "      <td>2.703086e+00</td>\n",
       "    </tr>\n",
       "  </tbody>\n",
       "</table>\n",
       "</div>"
      ],
      "text/plain": [
       "                             2015\n",
       "films_counts         1.480000e+02\n",
       "budget_mean          4.732147e+07\n",
       "profits_mean         1.279140e+08\n",
       "profits_sum          1.893127e+10\n",
       "ratio_profit_budget  2.703086e+00"
      ]
     },
     "metadata": {},
     "output_type": "display_data"
    }
   ],
   "source": [
    "# Answer(Q3.3)...the most profitable year (Based on the profits mean)...(not very accurate)\n",
    "max_min_release_year('profits_mean','x','all')"
   ]
  },
  {
   "cell_type": "code",
   "execution_count": 36,
   "metadata": {},
   "outputs": [
    {
     "data": {
      "text/html": [
       "<div>\n",
       "<style scoped>\n",
       "    .dataframe tbody tr th:only-of-type {\n",
       "        vertical-align: middle;\n",
       "    }\n",
       "\n",
       "    .dataframe tbody tr th {\n",
       "        vertical-align: top;\n",
       "    }\n",
       "\n",
       "    .dataframe thead th {\n",
       "        text-align: right;\n",
       "    }\n",
       "</style>\n",
       "<table border=\"1\" class=\"dataframe\">\n",
       "  <thead>\n",
       "    <tr style=\"text-align: right;\">\n",
       "      <th></th>\n",
       "      <th>1975</th>\n",
       "    </tr>\n",
       "  </thead>\n",
       "  <tbody>\n",
       "    <tr>\n",
       "      <th>films_counts</th>\n",
       "      <td>8.000000e+00</td>\n",
       "    </tr>\n",
       "    <tr>\n",
       "      <th>budget_mean</th>\n",
       "      <td>4.012500e+06</td>\n",
       "    </tr>\n",
       "    <tr>\n",
       "      <th>profits_mean</th>\n",
       "      <td>9.642174e+07</td>\n",
       "    </tr>\n",
       "    <tr>\n",
       "      <th>profits_sum</th>\n",
       "      <td>7.713739e+08</td>\n",
       "    </tr>\n",
       "    <tr>\n",
       "      <th>ratio_profit_budget</th>\n",
       "      <td>2.403034e+01</td>\n",
       "    </tr>\n",
       "  </tbody>\n",
       "</table>\n",
       "</div>"
      ],
      "text/plain": [
       "                             1975\n",
       "films_counts         8.000000e+00\n",
       "budget_mean          4.012500e+06\n",
       "profits_mean         9.642174e+07\n",
       "profits_sum          7.713739e+08\n",
       "ratio_profit_budget  2.403034e+01"
      ]
     },
     "metadata": {},
     "output_type": "display_data"
    }
   ],
   "source": [
    "# Answer(Q3.3)...the most profitable year (Based on the ratio of profits to the budget)...(very accurate)\n",
    "max_min_release_year('ratio_profit_budget','x','all')"
   ]
  },
  {
   "cell_type": "code",
   "execution_count": 37,
   "metadata": {
    "scrolled": true
   },
   "outputs": [
    {
     "data": {
      "text/html": [
       "<div>\n",
       "<style scoped>\n",
       "    .dataframe tbody tr th:only-of-type {\n",
       "        vertical-align: middle;\n",
       "    }\n",
       "\n",
       "    .dataframe tbody tr th {\n",
       "        vertical-align: top;\n",
       "    }\n",
       "\n",
       "    .dataframe thead th {\n",
       "        text-align: right;\n",
       "    }\n",
       "</style>\n",
       "<table border=\"1\" class=\"dataframe\">\n",
       "  <thead>\n",
       "    <tr style=\"text-align: right;\">\n",
       "      <th></th>\n",
       "      <th>2015</th>\n",
       "    </tr>\n",
       "  </thead>\n",
       "  <tbody>\n",
       "    <tr>\n",
       "      <th>films_counts</th>\n",
       "      <td>1.480000e+02</td>\n",
       "    </tr>\n",
       "    <tr>\n",
       "      <th>budget_mean</th>\n",
       "      <td>4.732147e+07</td>\n",
       "    </tr>\n",
       "    <tr>\n",
       "      <th>profits_mean</th>\n",
       "      <td>1.279140e+08</td>\n",
       "    </tr>\n",
       "    <tr>\n",
       "      <th>profits_sum</th>\n",
       "      <td>1.893127e+10</td>\n",
       "    </tr>\n",
       "    <tr>\n",
       "      <th>ratio_profit_budget</th>\n",
       "      <td>2.703086e+00</td>\n",
       "    </tr>\n",
       "  </tbody>\n",
       "</table>\n",
       "</div>"
      ],
      "text/plain": [
       "                             2015\n",
       "films_counts         1.480000e+02\n",
       "budget_mean          4.732147e+07\n",
       "profits_mean         1.279140e+08\n",
       "profits_sum          1.893127e+10\n",
       "ratio_profit_budget  2.703086e+00"
      ]
     },
     "metadata": {},
     "output_type": "display_data"
    }
   ],
   "source": [
    "# the year which has the greatest profits (Based on only the sum of profits not the mean)\n",
    "max_min_release_year('profits_sum','x','all')"
   ]
  },
  {
   "cell_type": "code",
   "execution_count": 38,
   "metadata": {},
   "outputs": [
    {
     "data": {
      "text/html": [
       "<div>\n",
       "<style scoped>\n",
       "    .dataframe tbody tr th:only-of-type {\n",
       "        vertical-align: middle;\n",
       "    }\n",
       "\n",
       "    .dataframe tbody tr th {\n",
       "        vertical-align: top;\n",
       "    }\n",
       "\n",
       "    .dataframe thead th {\n",
       "        text-align: right;\n",
       "    }\n",
       "</style>\n",
       "<table border=\"1\" class=\"dataframe\">\n",
       "  <thead>\n",
       "    <tr style=\"text-align: right;\">\n",
       "      <th></th>\n",
       "      <th>1966</th>\n",
       "    </tr>\n",
       "  </thead>\n",
       "  <tbody>\n",
       "    <tr>\n",
       "      <th>films_counts</th>\n",
       "      <td>5.000000e+00</td>\n",
       "    </tr>\n",
       "    <tr>\n",
       "      <th>budget_mean</th>\n",
       "      <td>6.453600e+06</td>\n",
       "    </tr>\n",
       "    <tr>\n",
       "      <th>profits_mean</th>\n",
       "      <td>1.049374e+07</td>\n",
       "    </tr>\n",
       "    <tr>\n",
       "      <th>profits_sum</th>\n",
       "      <td>5.246869e+07</td>\n",
       "    </tr>\n",
       "    <tr>\n",
       "      <th>ratio_profit_budget</th>\n",
       "      <td>1.626029e+00</td>\n",
       "    </tr>\n",
       "  </tbody>\n",
       "</table>\n",
       "</div>"
      ],
      "text/plain": [
       "                             1966\n",
       "films_counts         5.000000e+00\n",
       "budget_mean          6.453600e+06\n",
       "profits_mean         1.049374e+07\n",
       "profits_sum          5.246869e+07\n",
       "ratio_profit_budget  1.626029e+00"
      ]
     },
     "metadata": {},
     "output_type": "display_data"
    }
   ],
   "source": [
    "# Answer(Q3.4)...the most non-profitable year (Based on the mean)...(not very accurate)\n",
    "max_min_release_year('profits_mean','n','all')"
   ]
  },
  {
   "cell_type": "code",
   "execution_count": 39,
   "metadata": {},
   "outputs": [
    {
     "data": {
      "text/html": [
       "<div>\n",
       "<style scoped>\n",
       "    .dataframe tbody tr th:only-of-type {\n",
       "        vertical-align: middle;\n",
       "    }\n",
       "\n",
       "    .dataframe tbody tr th {\n",
       "        vertical-align: top;\n",
       "    }\n",
       "\n",
       "    .dataframe thead th {\n",
       "        text-align: right;\n",
       "    }\n",
       "</style>\n",
       "<table border=\"1\" class=\"dataframe\">\n",
       "  <thead>\n",
       "    <tr style=\"text-align: right;\">\n",
       "      <th></th>\n",
       "      <th>2000</th>\n",
       "    </tr>\n",
       "  </thead>\n",
       "  <tbody>\n",
       "    <tr>\n",
       "      <th>films_counts</th>\n",
       "      <td>9.900000e+01</td>\n",
       "    </tr>\n",
       "    <tr>\n",
       "      <th>budget_mean</th>\n",
       "      <td>4.795657e+07</td>\n",
       "    </tr>\n",
       "    <tr>\n",
       "      <th>profits_mean</th>\n",
       "      <td>6.140092e+07</td>\n",
       "    </tr>\n",
       "    <tr>\n",
       "      <th>profits_sum</th>\n",
       "      <td>6.078691e+09</td>\n",
       "    </tr>\n",
       "    <tr>\n",
       "      <th>ratio_profit_budget</th>\n",
       "      <td>1.280344e+00</td>\n",
       "    </tr>\n",
       "  </tbody>\n",
       "</table>\n",
       "</div>"
      ],
      "text/plain": [
       "                             2000\n",
       "films_counts         9.900000e+01\n",
       "budget_mean          4.795657e+07\n",
       "profits_mean         6.140092e+07\n",
       "profits_sum          6.078691e+09\n",
       "ratio_profit_budget  1.280344e+00"
      ]
     },
     "metadata": {},
     "output_type": "display_data"
    }
   ],
   "source": [
    "# Answer(Q3.4)...the most profitable year (Based on the ratio of profits to the budget)...(very accurate)\n",
    "max_min_release_year('ratio_profit_budget','n','all')"
   ]
  },
  {
   "cell_type": "code",
   "execution_count": 40,
   "metadata": {
    "scrolled": true
   },
   "outputs": [
    {
     "data": {
      "text/html": [
       "<div>\n",
       "<style scoped>\n",
       "    .dataframe tbody tr th:only-of-type {\n",
       "        vertical-align: middle;\n",
       "    }\n",
       "\n",
       "    .dataframe tbody tr th {\n",
       "        vertical-align: top;\n",
       "    }\n",
       "\n",
       "    .dataframe thead th {\n",
       "        text-align: right;\n",
       "    }\n",
       "</style>\n",
       "<table border=\"1\" class=\"dataframe\">\n",
       "  <thead>\n",
       "    <tr style=\"text-align: right;\">\n",
       "      <th></th>\n",
       "      <th>1966</th>\n",
       "    </tr>\n",
       "  </thead>\n",
       "  <tbody>\n",
       "    <tr>\n",
       "      <th>films_counts</th>\n",
       "      <td>5.000000e+00</td>\n",
       "    </tr>\n",
       "    <tr>\n",
       "      <th>budget_mean</th>\n",
       "      <td>6.453600e+06</td>\n",
       "    </tr>\n",
       "    <tr>\n",
       "      <th>profits_mean</th>\n",
       "      <td>1.049374e+07</td>\n",
       "    </tr>\n",
       "    <tr>\n",
       "      <th>profits_sum</th>\n",
       "      <td>5.246869e+07</td>\n",
       "    </tr>\n",
       "    <tr>\n",
       "      <th>ratio_profit_budget</th>\n",
       "      <td>1.626029e+00</td>\n",
       "    </tr>\n",
       "  </tbody>\n",
       "</table>\n",
       "</div>"
      ],
      "text/plain": [
       "                             1966\n",
       "films_counts         5.000000e+00\n",
       "budget_mean          6.453600e+06\n",
       "profits_mean         1.049374e+07\n",
       "profits_sum          5.246869e+07\n",
       "ratio_profit_budget  1.626029e+00"
      ]
     },
     "metadata": {},
     "output_type": "display_data"
    }
   ],
   "source": [
    "# the year which has the lowest profits (Based on only the sum of profits not the mean)\n",
    "max_min_release_year('profits_sum','n','all')"
   ]
  },
  {
   "cell_type": "code",
   "execution_count": 41,
   "metadata": {},
   "outputs": [],
   "source": [
    "def df_release_year_polt(column_name,film_type,title_plot,y_label,color_line):\n",
    "    '''\n",
    "    this function takes column name and a title for the polt and a title for y axis as arguments,\n",
    "    then return the polt of the column values with release_year.\n",
    "    '''\n",
    "    # make list of release_years sorted\n",
    "    release_years = df_profits['release_year'].sort_values().unique()\n",
    "    \n",
    "    # Polt the column.\n",
    "    # making plot much bigger to make it visible\n",
    "    plt.figure(figsize=(10,7))\n",
    "\n",
    "    # plot \"line and bar polts\" of the column(in arguments) by years\n",
    "    plt.plot(release_years,df_release_year(film_type)[column_name],color_line)\n",
    "    plt.bar(release_years,df_release_year(film_type)[column_name])\n",
    "    \n",
    "    # title and labels\n",
    "    plt.title(title_plot)\n",
    "    plt.xlabel('Release Year')\n",
    "    plt.ylabel(y_label);"
   ]
  },
  {
   "cell_type": "code",
   "execution_count": 42,
   "metadata": {},
   "outputs": [
    {
     "data": {
      "image/png": "[encoded data removed]",
      "text/plain": [
       "<Figure size 720x504 with 1 Axes>"
      ]
     },
     "metadata": {
      "needs_background": "light"
     },
     "output_type": "display_data"
    }
   ],
   "source": [
    "# plot the number of profitable films produced over years.\n",
    "df_release_year_polt('films_counts','pro','PLOT 4:Productivity by Years','The Count of Films','r')"
   ]
  },
  {
   "cell_type": "code",
   "execution_count": 43,
   "metadata": {},
   "outputs": [
    {
     "data": {
      "image/png": "[encoded data removed]",
      "text/plain": [
       "<Figure size 720x504 with 1 Axes>"
      ]
     },
     "metadata": {
      "needs_background": "light"
     },
     "output_type": "display_data"
    }
   ],
   "source": [
    "# plot budgets average of all films by years\n",
    "df_release_year_polt('budget_mean','all','PLOT 5:The Average of Budgets of Films by Years','The Average of Budgets  ','g')"
   ]
  },
  {
   "cell_type": "code",
   "execution_count": 44,
   "metadata": {},
   "outputs": [
    {
     "data": {
      "image/png": "[encoded data removed]",
      "text/plain": [
       "<Figure size 720x504 with 1 Axes>"
      ]
     },
     "metadata": {
      "needs_background": "light"
     },
     "output_type": "display_data"
    }
   ],
   "source": [
    "# plot profits average of all films by years\n",
    "df_release_year_polt('profits_mean','all','PLOT 6:The Average of Profits of Films by Years','The Average of Profits','m')"
   ]
  },
  {
   "cell_type": "code",
   "execution_count": 45,
   "metadata": {
    "scrolled": false
   },
   "outputs": [
    {
     "data": {
      "image/png": "[encoded data removed]",
      "text/plain": [
       "<Figure size 720x504 with 1 Axes>"
      ]
     },
     "metadata": {
      "needs_background": "light"
     },
     "output_type": "display_data"
    }
   ],
   "source": [
    "# plot the ratio of profts to the budget of every year\n",
    "df_release_year_polt('ratio_profit_budget','all','PLOT 7:Ratio of Profits to Budgets by Years','Ratio of Profits to Budgets','k')"
   ]
  },
  {
   "cell_type": "code",
   "execution_count": 46,
   "metadata": {},
   "outputs": [
    {
     "data": {
      "image/png": "[encoded data removed]",
      "text/plain": [
       "<Figure size 720x504 with 1 Axes>"
      ]
     },
     "metadata": {
      "needs_background": "light"
     },
     "output_type": "display_data"
    }
   ],
   "source": [
    "# plot profits sum of all films by years\n",
    "df_release_year_polt('profits_sum','all','PLOT 8:The Sum of Profits of Films by Years','The Sum of Profits','m')"
   ]
  },
  {
   "cell_type": "markdown",
   "metadata": {},
   "source": [
    "<a id='4'></a>\n",
    "### Research Question 4  (What are the most successful genres of profitable films?<br>And what are the most unsuccessful genres of profitable films?)<br><br>\n",
    ">**Observations and answers:**  \n",
    "**1-**The most successful genres of profitable films are {Drama,Comedy,Action} (from POLT 9)  \n",
    "**2-**The most unsuccessful genres of profitable films are {TV movie,Documentary,western} (from POLT 9)"
   ]
  },
  {
   "cell_type": "code",
   "execution_count": 47,
   "metadata": {},
   "outputs": [],
   "source": [
    "def count_data_profitable(column_name,values_number=\"all\"):\n",
    "    '''\n",
    "    this function takes the column (which contains more than one value in one row sperated by \"|\") and\n",
    "    the 'values_number' which determine how many values you want to count from the top,\n",
    "    then add the values to array after spliting them and then,\n",
    "    retuens the occurrance count of every value in the data in a dictionary.(only profitable films)\n",
    "    Hint :argument 'values_number' takes values \"all\" or number(by default \"all\").\n",
    "    '''            \n",
    "    values_array = []   # the array which contains the values(after spliting)\n",
    "    values_array_1d = []  # the array after converting it from 2D array to 1D array (to count the values)\n",
    "\n",
    "    # split values and append them to 'values_array'\n",
    "    df_profits_query = df_profits.query('profit_evaluation == \"profitable\"') # only profitable films\n",
    "    for row in df_profits_query[column_name]:\n",
    "        values_array.append(row.split('|'))\n",
    "    \n",
    "    # convert 2D array 'values_array' to 1D array and append the values to array 'values_array_1d'\n",
    "    for n in range(len(values_array)):\n",
    "        for i in range(len(values_array[n])):\n",
    "            values_array_1d.append(values_array[n][i])\n",
    "    \n",
    "    # count the occurrance of values in data\n",
    "    unique, counts = np.unique(values_array_1d, return_counts=True)\n",
    "    # gather the values and their counts in one dictionary\n",
    "    values_counts = dict(zip(unique, counts))\n",
    "    # sort the counts of values in descending order\n",
    "    values_counts_sorted = dict(sorted(values_counts.items(), key=operator.itemgetter(1),reverse=True))\n",
    "    \n",
    "    \n",
    "    # get only n of the top values (n is values_number(int))\n",
    "    values_counts_top = {}  # dictionary for the n top values\n",
    "    if values_number == \"all\":\n",
    "        values_counts_list = values_counts_sorted\n",
    "    else:\n",
    "        for n in range(values_number): # take the counts of only n top values.and add them to dict 'values_counts_top'\n",
    "            values_counts_top[list(values_counts_sorted)[n]] = values_counts_sorted[list(values_counts_sorted)[n]] # append n top values with their counts\n",
    "        # sort the counts of n top values (dictionary 'values_counts_top' destroys the order)\n",
    "        values_counts_list = sorted(values_counts_top.items(), key=operator.itemgetter(1),reverse=True)\n",
    "    \n",
    "    \n",
    "    # return\n",
    "    return values_counts_list"
   ]
  },
  {
   "cell_type": "code",
   "execution_count": 48,
   "metadata": {},
   "outputs": [],
   "source": [
    "def count_data_pro_plot(column_name,values_number,plot_title):\n",
    "    '''\n",
    "    this function takes column_name and the number of top values we want to plot(values_number) as arguments,\n",
    "    then returns a bar plot of these column values and their counts.\n",
    "    '''\n",
    "    # call the function 'count_data_profitable' to count the values in the column and assign the the results of the function to 'values'\n",
    "    values = count_data_profitable(column_name,values_number)  # a dictionary which contains values and their counts of the column\n",
    "    \n",
    "    # the background of the plot\n",
    "    sns.set(style=\"darkgrid\")\n",
    "\n",
    "    # plot the horizontal bar plot of the 'values' dictionary and make the plot much bigger\n",
    "    fig, ax = plt.subplots(figsize=(15,10))\n",
    "    # plot the horizontal bars and give the function 'ax' the inforamtion of the the data we want to plot\n",
    "    ax.barh(range(len(values)), list(values.values()),color='blue', ecolor='red')\n",
    "    ax.set_yticks(range(len(values)))\n",
    "    ax.set_yticklabels(list(values.keys()))\n",
    "    \n",
    "    ax.invert_yaxis() # labels read top-to-bottom\n",
    "    \n",
    "    # title and labels\n",
    "    ax.set_title(plot_title,fontsize=20)\n",
    "    ax.set_xlabel('frequency',fontsize =15)\n",
    "    ax.set_ylabel(column_name,fontsize =15);"
   ]
  },
  {
   "cell_type": "code",
   "execution_count": 49,
   "metadata": {},
   "outputs": [
    {
     "data": {
      "image/png": "[encoded data removed]",
      "text/plain": [
       "<Figure size 1080x720 with 1 Axes>"
      ]
     },
     "metadata": {},
     "output_type": "display_data"
    }
   ],
   "source": [
    "# plot of the frequency of the films genres\n",
    "count_data_pro_plot(\"genres\",\"all\",\"POLT 9:The Frequency of The genres of Films \")"
   ]
  },
  {
   "cell_type": "markdown",
   "metadata": {},
   "source": [
    "<a id='5'></a>\n",
    "### Research Question 5  (Who are the actors who have the greatest number of profitable films?)<br><br>\n",
    ">**Answer:**  \n",
    "The actor who have the first greatest number of profitable films is Tom Cruise(29 films)  \n",
    "The actor who have the second greatest number of profitable films is Tom Hanks(28 films)  \n",
    "The actor who have the third greatest number of profitable films is Brad Pitt(27  films)"
   ]
  },
  {
   "cell_type": "code",
   "execution_count": 50,
   "metadata": {
    "scrolled": false
   },
   "outputs": [
    {
     "data": {
      "text/plain": [
       "[('Tom Cruise', 29),\n",
       " ('Tom Hanks', 28),\n",
       " ('Brad Pitt', 27),\n",
       " ('Robert De Niro', 25),\n",
       " ('Bruce Willis', 24)]"
      ]
     },
     "execution_count": 50,
     "metadata": {},
     "output_type": "execute_result"
    }
   ],
   "source": [
    "# the first five actors who have the greatest number of profitable films\n",
    "count_data_profitable(\"cast\",5)"
   ]
  },
  {
   "cell_type": "markdown",
   "metadata": {},
   "source": [
    "<a id='6'></a>\n",
    "### Research Question 6  (What are the production companies which have the greatest number of profitable films?)<br><br>\n",
    ">**Answer:**  \n",
    "The production company who have the first greatest number of profitable films is Universal Pictures(196 films)  \n",
    "The production company who have the second greatest number of profitable films is Warner Bros(183 films)  \n",
    "The production company who have the third greatest number of profitable films is Paramount Pictures(157 films)"
   ]
  },
  {
   "cell_type": "code",
   "execution_count": 51,
   "metadata": {},
   "outputs": [
    {
     "data": {
      "text/plain": [
       "[('Universal Pictures', 196),\n",
       " ('Warner Bros.', 183),\n",
       " ('Paramount Pictures', 157),\n",
       " ('Twentieth Century Fox Film Corporation', 137),\n",
       " ('Columbia Pictures', 112)]"
      ]
     },
     "execution_count": 51,
     "metadata": {},
     "output_type": "execute_result"
    }
   ],
   "source": [
    "# the first five production companies who have the greatest number of profitable films\n",
    "count_data_profitable(\"production_companies\",5)"
   ]
  },
  {
   "cell_type": "markdown",
   "metadata": {},
   "source": [
    "<a id='7'></a>\n",
    "### Research Question 7  (Who are the directors who have the greatest number of profitable films?)<br><br>\n",
    ">**Answer:**  \n",
    "The director who have the first greatest number of profitable films is Steven Spielberg(24 films)  \n",
    "The director who have the second greatest number of profitable films is Clint Eastwood(16 films)  \n",
    "The director who have the third greatest number of profitable films is Tim Burton(14 films)"
   ]
  },
  {
   "cell_type": "code",
   "execution_count": 52,
   "metadata": {},
   "outputs": [
    {
     "data": {
      "text/plain": [
       "director\n",
       "Steven Spielberg    24\n",
       "Clint Eastwood      16\n",
       "Tim Burton          14\n",
       "Ridley Scott        13\n",
       "Robert Zemeckis     13\n",
       "Name: director, dtype: int64"
      ]
     },
     "execution_count": 52,
     "metadata": {},
     "output_type": "execute_result"
    }
   ],
   "source": [
    "# group the data by 'director' then count the number of profitable films for every director\n",
    "df_directors = df_profits.query('profit_evaluation == \"profitable\"').groupby('director').director.count()\n",
    "\n",
    "# sort the counts in descending order to know the directors who have the greatest number of profitable films\n",
    "df_directors_sorted = df_directors.sort_values(ascending=False,inplace=True)\n",
    "df_directors.head(5)"
   ]
  },
  {
   "cell_type": "markdown",
   "metadata": {},
   "source": [
    "<a id='8'></a>\n",
    "### Research Question 8  (What are the average of budgets,the average of revenues,the average of profits and the average runtime for all profitable films?)<br><br>\n",
    ">**Answer:**  \n",
    "The average of profitable films budget is 52536855.6471 dollars.  \n",
    "The average of profitable films revenue is 208847696.263 dollars.  \n",
    "The average of profitable films profits is 156310840.616 dollars.  \n",
    "The average of profitable films runtime is 112.520689655 minutes."
   ]
  },
  {
   "cell_type": "code",
   "execution_count": 53,
   "metadata": {},
   "outputs": [],
   "source": [
    "def average_profitable(column_name):\n",
    "    '''\n",
    "    this function takes the column_name as an argument,\n",
    "    then returns the average of values in this column.\n",
    "    these values are only for profitable films.\n",
    "    '''\n",
    "    # filter the data to analysis only the profitable films data\n",
    "    df_profitable = df_profits.query('profit_evaluation == \"profitable\"')\n",
    "    # get the mean for the values of the column\n",
    "    df_average = df_profitable[column_name].mean()\n",
    "    \n",
    "    # return\n",
    "    return df_average"
   ]
  },
  {
   "cell_type": "code",
   "execution_count": 54,
   "metadata": {},
   "outputs": [
    {
     "name": "stdout",
     "output_type": "stream",
     "text": [
      "The average of profitable films budget is 52536855.647126436 $\n"
     ]
    }
   ],
   "source": [
    "# call the function 'average_profitable' to calculate the average of profitable films budget\n",
    "average_budget = average_profitable(\"budget\")\n",
    "# print the budget average\n",
    "print(\"The average of profitable films budget is\",average_budget,\"$\")"
   ]
  },
  {
   "cell_type": "code",
   "execution_count": 55,
   "metadata": {},
   "outputs": [
    {
     "name": "stdout",
     "output_type": "stream",
     "text": [
      "The average of profitable films revenue is 208847696.26264367 $\n"
     ]
    }
   ],
   "source": [
    "# call the function 'average_profitable' to calculate the average of profitable films revenue\n",
    "average_revenue = average_profitable(\"revenue\")\n",
    "# print the revenue average\n",
    "print(\"The average of profitable films revenue is\",average_revenue,\"$\")"
   ]
  },
  {
   "cell_type": "code",
   "execution_count": 56,
   "metadata": {},
   "outputs": [
    {
     "name": "stdout",
     "output_type": "stream",
     "text": [
      "The average of profitable films profits is 156310840.61551723 $\n"
     ]
    }
   ],
   "source": [
    "# call the function 'average_profitable' to calculate the average of profitable films profits\n",
    "average_profits = average_profitable(\"profits\")\n",
    "# print the profits average\n",
    "print(\"The average of profitable films profits is\",average_profits,\"$\")"
   ]
  },
  {
   "cell_type": "code",
   "execution_count": 57,
   "metadata": {},
   "outputs": [
    {
     "name": "stdout",
     "output_type": "stream",
     "text": [
      "The average of profitable films runtime is 112.52068965517242 minutes\n"
     ]
    }
   ],
   "source": [
    "# call the function 'average_profitable' to calculate the average of profitable films runtime\n",
    "average_runtime = average_profitable(\"runtime\")\n",
    "# print the runtime average\n",
    "print(\"The average of profitable films runtime is\",average_runtime,\"minutes\")"
   ]
  },
  {
   "cell_type": "code",
   "execution_count": 58,
   "metadata": {},
   "outputs": [
    {
     "data": {
      "text/html": [
       "<div>\n",
       "<style scoped>\n",
       "    .dataframe tbody tr th:only-of-type {\n",
       "        vertical-align: middle;\n",
       "    }\n",
       "\n",
       "    .dataframe tbody tr th {\n",
       "        vertical-align: top;\n",
       "    }\n",
       "\n",
       "    .dataframe thead th {\n",
       "        text-align: right;\n",
       "    }\n",
       "</style>\n",
       "<table border=\"1\" class=\"dataframe\">\n",
       "  <thead>\n",
       "    <tr style=\"text-align: right;\">\n",
       "      <th></th>\n",
       "      <th>budget</th>\n",
       "      <th>revenue</th>\n",
       "      <th>original_title</th>\n",
       "      <th>cast</th>\n",
       "      <th>director</th>\n",
       "      <th>tagline</th>\n",
       "      <th>runtime</th>\n",
       "      <th>genres</th>\n",
       "      <th>production_companies</th>\n",
       "      <th>release_date</th>\n",
       "      <th>release_year</th>\n",
       "      <th>profits</th>\n",
       "      <th>ratio_profit_budget</th>\n",
       "      <th>profit_evaluation</th>\n",
       "      <th>film_runtime_type</th>\n",
       "    </tr>\n",
       "  </thead>\n",
       "  <tbody>\n",
       "    <tr>\n",
       "      <th>0</th>\n",
       "      <td>150000000</td>\n",
       "      <td>1513528810</td>\n",
       "      <td>Jurassic World</td>\n",
       "      <td>Chris Pratt|Bryce Dallas Howard|Irrfan Khan|Vi...</td>\n",
       "      <td>Colin Trevorrow</td>\n",
       "      <td>The park is open.</td>\n",
       "      <td>124</td>\n",
       "      <td>Action|Adventure|Science Fiction|Thriller</td>\n",
       "      <td>Universal Studios|Amblin Entertainment|Legenda...</td>\n",
       "      <td>2015-06-09</td>\n",
       "      <td>2015</td>\n",
       "      <td>1363528810</td>\n",
       "      <td>9.090192</td>\n",
       "      <td>profitable</td>\n",
       "      <td>long</td>\n",
       "    </tr>\n",
       "    <tr>\n",
       "      <th>1</th>\n",
       "      <td>150000000</td>\n",
       "      <td>378436354</td>\n",
       "      <td>Mad Max: Fury Road</td>\n",
       "      <td>Tom Hardy|Charlize Theron|Hugh Keays-Byrne|Nic...</td>\n",
       "      <td>George Miller</td>\n",
       "      <td>What a Lovely Day.</td>\n",
       "      <td>120</td>\n",
       "      <td>Action|Adventure|Science Fiction|Thriller</td>\n",
       "      <td>Village Roadshow Pictures|Kennedy Miller Produ...</td>\n",
       "      <td>2015-05-13</td>\n",
       "      <td>2015</td>\n",
       "      <td>228436354</td>\n",
       "      <td>1.522909</td>\n",
       "      <td>profitable</td>\n",
       "      <td>long</td>\n",
       "    </tr>\n",
       "    <tr>\n",
       "      <th>2</th>\n",
       "      <td>110000000</td>\n",
       "      <td>295238201</td>\n",
       "      <td>Insurgent</td>\n",
       "      <td>Shailene Woodley|Theo James|Kate Winslet|Ansel...</td>\n",
       "      <td>Robert Schwentke</td>\n",
       "      <td>One Choice Can Destroy You</td>\n",
       "      <td>119</td>\n",
       "      <td>Adventure|Science Fiction|Thriller</td>\n",
       "      <td>Summit Entertainment|Mandeville Films|Red Wago...</td>\n",
       "      <td>2015-03-18</td>\n",
       "      <td>2015</td>\n",
       "      <td>185238201</td>\n",
       "      <td>1.683984</td>\n",
       "      <td>profitable</td>\n",
       "      <td>long</td>\n",
       "    </tr>\n",
       "  </tbody>\n",
       "</table>\n",
       "</div>"
      ],
      "text/plain": [
       "      budget     revenue      original_title  \\\n",
       "0  150000000  1513528810      Jurassic World   \n",
       "1  150000000   378436354  Mad Max: Fury Road   \n",
       "2  110000000   295238201           Insurgent   \n",
       "\n",
       "                                                cast          director  \\\n",
       "0  Chris Pratt|Bryce Dallas Howard|Irrfan Khan|Vi...   Colin Trevorrow   \n",
       "1  Tom Hardy|Charlize Theron|Hugh Keays-Byrne|Nic...     George Miller   \n",
       "2  Shailene Woodley|Theo James|Kate Winslet|Ansel...  Robert Schwentke   \n",
       "\n",
       "                      tagline  runtime  \\\n",
       "0           The park is open.      124   \n",
       "1          What a Lovely Day.      120   \n",
       "2  One Choice Can Destroy You      119   \n",
       "\n",
       "                                      genres  \\\n",
       "0  Action|Adventure|Science Fiction|Thriller   \n",
       "1  Action|Adventure|Science Fiction|Thriller   \n",
       "2         Adventure|Science Fiction|Thriller   \n",
       "\n",
       "                                production_companies release_date  \\\n",
       "0  Universal Studios|Amblin Entertainment|Legenda...   2015-06-09   \n",
       "1  Village Roadshow Pictures|Kennedy Miller Produ...   2015-05-13   \n",
       "2  Summit Entertainment|Mandeville Films|Red Wago...   2015-03-18   \n",
       "\n",
       "   release_year     profits  ratio_profit_budget profit_evaluation  \\\n",
       "0          2015  1363528810             9.090192        profitable   \n",
       "1          2015   228436354             1.522909        profitable   \n",
       "2          2015   185238201             1.683984        profitable   \n",
       "\n",
       "  film_runtime_type  \n",
       "0              long  \n",
       "1              long  \n",
       "2              long  "
      ]
     },
     "execution_count": 58,
     "metadata": {},
     "output_type": "execute_result"
    }
   ],
   "source": [
    "# the most profitable films according to the analysis we do\n",
    "df_profitable = df_profits.query('profit_evaluation == \"profitable\"' and 'budget <= 52536855' and 'profits >= 156310840')\n",
    "\n",
    "# testing\n",
    "df_profitable.head(3)"
   ]
  },
  {
   "cell_type": "markdown",
   "metadata": {},
   "source": [
    "<a id='conclusions'></a>\n",
    "## Conclusions<br><br><br>\n",
    "\n",
    "> **From analysis, we can know the features of profitable films:**<br>\n",
    "**1-**Budget is around 52.5 million dollars.  \n",
    "**2-**Revenue is around 209 million dollars.  \n",
    "**3-**Profits is around 156 million dollars.  \n",
    "**4-**Runtime is around 113 minutes.<br><br>\n",
    "\n",
    ">**To make a successful film:**<br>\n",
    "**1-**Budget should be around or less than 52.5 million dollars.  \n",
    "**2-**Runtime should be around 113 minutes(or in interval [90:150] from POLT 1).  \n",
    "**3-**Cast should have one of these actors (Tom Cruise,Tom Hanks,Brad Pitt,Robert De Niro,Bruce Willis).  \n",
    "**4-**Genre should be one of these genres (Drama,Comedy,Action,Thriller,Adventure).  \n",
    "**5-**Production company should be one of these campanies (Universal Pictures,Warner Bros,Paramount Pictures,Twentieth Century Fox Film Corporation,Columbia Pictures).  \n",
    "**6-**Director should be one of these directors (Steven Spielberg,Clint Eastwood,Tim Burton,Ridley Scott,Robert Zemeckis).<br><br>\n",
    "\n",
    ">**There are some observations on the data and becaues of that, there are some limits and restrictions on the predictions.**<br><br>\n",
    "**Observations and Limits:**  \n",
    "**1-**We notice that the data don't have units for budget,revenue and runtime.Becaues of that, these predictions are based on dollar as a currency and minute as time measurement unit.  \n",
    "**2-**We notice that there are outliers on runtime column and we ignore them.Becaues of that, these predictions are based on making these outliers incorrect values.  \n",
    "**3-**We notice that there are unreasonable values to some columns(budget,revenue) like(0,100,113,...) so we drop them,Because of that, predictions are based on ignoring these values becaues we believe that there are some mistakes while writing this data and that make the data go smaller and that make predictions not have much accuracy.(limits are budget > 50000 and revenue > 50000)  \n",
    "**4-**We consider that the profitable films are the films which their profits are more than 25 million dollars,Because of that, predictions are based on making the films with profits more than 25 M dollars profitable.  \n",
    "**5-**We don't have any information about the ways of collecting this data.That means these predictions could be build on wrong and inaccurate data or not on up-to-date data.  \n",
    "**6-**Our predictions about 'To make a successful film' is build on some factors of success but not all factors.There are many other factors to make a successful film like the plot, the scenario,the good acting of actors and ofcourse the lack of problems in filming or between the companies and the actors...etc"
   ]
  },
  {
   "cell_type": "code",
   "execution_count": 59,
   "metadata": {},
   "outputs": [
    {
     "data": {
      "text/plain": [
       "0"
      ]
     },
     "execution_count": 59,
     "metadata": {},
     "output_type": "execute_result"
    }
   ],
   "source": [
    "from subprocess import call\n",
    "call(['python', '-m', 'nbconvert', 'Investigate TMDB Movies Dataset.ipynb'])"
   ]
  }
 ],
 "metadata": {
  "kernelspec": {
   "display_name": "Python 3",
   "language": "python",
   "name": "python3"
  },
  "language_info": {
   "codemirror_mode": {
    "name": "ipython",
    "version": 3
   },
   "file_extension": ".py",
   "mimetype": "text/x-python",
   "name": "python",
   "nbconvert_exporter": "python",
   "pygments_lexer": "ipython3",
   "version": "3.7.3"
  }
 },
 "nbformat": 4,
 "nbformat_minor": 2
}
